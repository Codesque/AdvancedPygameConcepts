{
 "cells": [
  {
   "cell_type": "markdown",
   "metadata": {},
   "source": [
    "# Saving in pygame "
   ]
  },
  {
   "cell_type": "markdown",
   "metadata": {},
   "source": [
    "<img src=\"img/saving_file_formats.jpg\" width=\"600px\">"
   ]
  },
  {
   "cell_type": "markdown",
   "metadata": {},
   "source": [
    "> These are the formats that you can save the game's information . "
   ]
  },
  {
   "cell_type": "markdown",
   "metadata": {},
   "source": [
    "### Writing a file : "
   ]
  },
  {
   "cell_type": "code",
   "execution_count": 1,
   "metadata": {},
   "outputs": [],
   "source": [
    "import json  \n",
    "\n",
    "data = {\n",
    "    \"Turkey\":\"Istanbul\",\n",
    "    \"University\":\"Bursa\",\n",
    "    \"Born\" : \"Eskisehir\",\n",
    "    \"Dreams\":\"London\" \n",
    "}\n",
    "\n",
    "with open(\"test_data.txt\" , \"w\") as test_file : \n",
    "    json.dump(data , test_file) \n"
   ]
  },
  {
   "cell_type": "markdown",
   "metadata": {},
   "source": [
    "### Reading a JSON file : "
   ]
  },
  {
   "cell_type": "code",
   "execution_count": 4,
   "metadata": {},
   "outputs": [
    {
     "name": "stdout",
     "output_type": "stream",
     "text": [
      "('Turkey', 'Istanbul')\n",
      "('University', 'Bursa')\n",
      "('Born', 'Eskisehir')\n",
      "('Dreams', 'London')\n"
     ]
    }
   ],
   "source": [
    "with open(\"test_data.txt\") as text_file : \n",
    "    data = json.load(text_file) \n",
    "    for entry in data.items(): \n",
    "        print(entry)"
   ]
  },
  {
   "cell_type": "markdown",
   "metadata": {},
   "source": [
    "### Creating a clicking game which saves how many times this button has been clicked "
   ]
  },
  {
   "cell_type": "code",
   "execution_count": 1,
   "metadata": {},
   "outputs": [
    {
     "name": "stdout",
     "output_type": "stream",
     "text": [
      "pygame 2.1.2 (SDL 2.0.18, Python 3.10.6)\n",
      "Hello from the pygame community. https://www.pygame.org/contribute.html\n"
     ]
    },
    {
     "ename": "error",
     "evalue": "display Surface quit",
     "output_type": "error",
     "traceback": [
      "\u001b[1;31m---------------------------------------------------------------------------\u001b[0m",
      "\u001b[1;31merror\u001b[0m                                     Traceback (most recent call last)",
      "\u001b[1;32mc:\\Users\\Bahattin Yüksel\\APC_Clear_Code\\7-saving.ipynb Hücre 9\u001b[0m in \u001b[0;36m<cell line: 72>\u001b[1;34m()\u001b[0m\n\u001b[0;32m     <a href='vscode-notebook-cell:/c%3A/Users/Bahattin%20Y%C3%BCksel/APC_Clear_Code/7-saving.ipynb#X16sZmlsZQ%3D%3D?line=83'>84</a>\u001b[0m             red_box\u001b[39m.\u001b[39mclicked \u001b[39m=\u001b[39m \u001b[39mTrue\u001b[39;00m \n\u001b[0;32m     <a href='vscode-notebook-cell:/c%3A/Users/Bahattin%20Y%C3%BCksel/APC_Clear_Code/7-saving.ipynb#X16sZmlsZQ%3D%3D?line=84'>85</a>\u001b[0m             blue_box\u001b[39m.\u001b[39mclicked \u001b[39m=\u001b[39m \u001b[39mTrue\u001b[39;00m \n\u001b[1;32m---> <a href='vscode-notebook-cell:/c%3A/Users/Bahattin%20Y%C3%BCksel/APC_Clear_Code/7-saving.ipynb#X16sZmlsZQ%3D%3D?line=86'>87</a>\u001b[0m screen\u001b[39m.\u001b[39;49mfill((\u001b[39m255\u001b[39;49m,\u001b[39m255\u001b[39;49m,\u001b[39m255\u001b[39;49m))\n\u001b[0;32m     <a href='vscode-notebook-cell:/c%3A/Users/Bahattin%20Y%C3%BCksel/APC_Clear_Code/7-saving.ipynb#X16sZmlsZQ%3D%3D?line=87'>88</a>\u001b[0m boxes\u001b[39m.\u001b[39mupdate() \n\u001b[0;32m     <a href='vscode-notebook-cell:/c%3A/Users/Bahattin%20Y%C3%BCksel/APC_Clear_Code/7-saving.ipynb#X16sZmlsZQ%3D%3D?line=88'>89</a>\u001b[0m pygame\u001b[39m.\u001b[39mdisplay\u001b[39m.\u001b[39mupdate()\n",
      "\u001b[1;31merror\u001b[0m: display Surface quit"
     ]
    },
    {
     "ename": "",
     "evalue": "",
     "output_type": "error",
     "traceback": [
      "Geçerli hücrede veya önceki bir hücrede kod yürütülürken Çekirdek kilitlendi. Hatanın olası nedenini belirlemek için lütfen hücrelerdeki kodu gözden geçirin. Daha fazla bilgi için <a href='https://aka.ms/vscodeJupyterKernelCrash'>buraya</a> tıklayın. Daha fazla ayrıntı için Jupyter <a href='command:jupyter.viewOutput'>günlüğünü</a> görüntüleyin."
     ]
    }
   ],
   "source": [
    "from cmath import rect\n",
    "import pygame \n",
    "import json \n",
    "\n",
    "WIDTH , HEIGHT = 600 , 600\n",
    "\n",
    "BLACK = (0,0,0) \n",
    "RED = (255,0,0) \n",
    "BLUE = (0,0,255)\n",
    "\n",
    "\n",
    "pygame.init()  \n",
    "screen = pygame.display.set_mode((WIDTH , HEIGHT)) \n",
    "box_name = {\n",
    "\n",
    "    (255,255,255) : \"WHITE\", \n",
    "    (0,0,0) : \"BLACK\" , \n",
    "    (255,0,0):\"RED\",\n",
    "    (0,0,255):\"BLUE\"\n",
    "} \n",
    "\n",
    "data = {\n",
    "    \"RED\" : 0 , \n",
    "    \"BLUE\": 0\n",
    "} \n",
    "\n",
    "try: \n",
    "    with open(\"save_score.txt\") as score_txt: \n",
    "        data = json.load(score_txt) \n",
    "except: \n",
    "    pass \n",
    "\n",
    "class Box(pygame.sprite.Sprite): \n",
    "    def __init__(self  , color , pos_x , pos_y , size = 100) -> None:\n",
    "        super().__init__()  \n",
    "        self.size = size  \n",
    "        self.rect = pygame.Rect(pos_x , pos_y , self.size , self.size) \n",
    "        self.color = color   \n",
    "        self.name = box_name[color] \n",
    "        self.clicked = False \n",
    "\n",
    "        self.name_font = pygame.font.Font(None , 30) \n",
    "        self.text_surface = self.name_font.render( self.name,True , BLACK)  \n",
    "        self.click_text = self.name_font.render(f\"Clicks = {data[self.name]}\" , True , BLACK) \n",
    "\n",
    "    def count_clicks(self): \n",
    "\n",
    "        mouse_pos  = pygame.mouse.get_pos()\n",
    "        if self.rect.collidepoint(mouse_pos):   \n",
    "            if self.clicked: \n",
    "                data[self.name] += 1 \n",
    "                self.clicked = False \n",
    "\n",
    "        \n",
    "    def update(self , const= 60 , width = 100 , height = 30): \n",
    "        pygame.draw.rect(screen , self.color , self.rect) \n",
    "\n",
    "        self.count_clicks()\n",
    "\n",
    "        x , y = self.rect.bottomleft  \n",
    "        y += const\n",
    "        screen.blit(self.text_surface , pygame.Rect(x,y,width,height) )   \n",
    "        y += const   \n",
    "        self.click_text = self.name_font.render(f\"Clicks = {data[self.name]}\" , True , BLACK) \n",
    "        screen.blit(self.click_text , pygame.Rect(x,y,width , height))   \n",
    "\n",
    "boxes = pygame.sprite.Group()\n",
    "red_box = Box(RED , WIDTH//3 , HEIGHT//3) \n",
    "blue_box = Box(BLUE , 2*WIDTH//3 , HEIGHT//3) \n",
    "boxes.add(red_box) ; boxes.add(blue_box) \n",
    "running = True \n",
    "while running: \n",
    "    for e in pygame.event.get(): \n",
    "        if e.type == pygame.QUIT: \n",
    "            \n",
    "            with open(\"save_score.txt\" , \"w\") as score_file: \n",
    "                json.dump(data , score_file)\n",
    "            \n",
    "            exit() \n",
    "            pygame.quit()   \n",
    "\n",
    "        if e.type == pygame.MOUSEBUTTONDOWN: \n",
    "            if e.button == 1 : \n",
    "                red_box.clicked = True \n",
    "                blue_box.clicked = True \n",
    "\n",
    "    screen.fill((255,255,255))\n",
    "    boxes.update() \n",
    "    pygame.display.update() \n",
    "\n",
    "\n",
    "    \n",
    "\n",
    "    \n",
    "\n",
    "\n",
    "        \n",
    "\n",
    "\n",
    "\n",
    "\n",
    "\n",
    "\n",
    "\n"
   ]
  }
 ],
 "metadata": {
  "kernelspec": {
   "display_name": "Python 3.10.6 64-bit (system)",
   "language": "python",
   "name": "python3"
  },
  "language_info": {
   "codemirror_mode": {
    "name": "ipython",
    "version": 3
   },
   "file_extension": ".py",
   "mimetype": "text/x-python",
   "name": "python",
   "nbconvert_exporter": "python",
   "pygments_lexer": "ipython3",
   "version": "3.10.6"
  },
  "orig_nbformat": 4,
  "vscode": {
   "interpreter": {
    "hash": "1e3e800d60de73aef17d6ccee2edb76295f61fcadb681caa85aa19fd4719ff22"
   }
  }
 },
 "nbformat": 4,
 "nbformat_minor": 2
}
