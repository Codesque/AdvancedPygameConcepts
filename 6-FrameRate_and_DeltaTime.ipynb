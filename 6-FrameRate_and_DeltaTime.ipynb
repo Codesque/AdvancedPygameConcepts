{
 "cells": [
  {
   "cell_type": "markdown",
   "metadata": {},
   "source": [
    "# FrameRate Independence and DeltaTime in Pygame "
   ]
  },
  {
   "cell_type": "markdown",
   "metadata": {},
   "source": [
    "<img src=\"img/having_different_framerates_is_a_problem.jpg\" width=\"600px\">"
   ]
  },
  {
   "cell_type": "markdown",
   "metadata": {},
   "source": [
    "Players have different devices and that cause the thing that , maximum fps that a player might take changes depend on device to device. Considering this if we dont configure frame rate per second , all players that plays our  game wouldnt have the same experience because of the table that you can see above. \n",
    "\n",
    "> Greater fps rate causes player to move much more than the player that has lesser fps. \n",
    "\n",
    "Also Fps depends on which part of the game you are playing and this is a big problem even newest games like Lord Of The Rings. In LOTR , dungeons have 60 fps rate (which is bigger)  but in overworld part of the game players often get 30 fps. This makes players to complain about the experience that they gain in overworld.  \n",
    "\n",
    "> Greater fps rates cause more often calculation of physical entities and more checkings for other kind of calculations. This makes the animations go smoothly and realisticly (which is of course a good thing). "
   ]
  },
  {
   "cell_type": "markdown",
   "metadata": {},
   "source": [
    "### Solution 1 : Determining a constant maximum Frame Rate for all players "
   ]
  },
  {
   "cell_type": "markdown",
   "metadata": {},
   "source": [
    "<img src=\"img/fr_problem_solution_1.jpg\"  width = \"600px\">"
   ]
  },
  {
   "cell_type": "markdown",
   "metadata": {},
   "source": [
    "### Solution 2 : Using Delta time for consistent speed at all frame rates"
   ]
  },
  {
   "cell_type": "markdown",
   "metadata": {},
   "source": [
    "<img src=\"img/fr_problem_solution_2.jpg\"  width =\"600px\">"
   ]
  },
  {
   "cell_type": "markdown",
   "metadata": {},
   "source": [
    "#### How Delta Time Works ? "
   ]
  },
  {
   "cell_type": "markdown",
   "metadata": {},
   "source": [
    "<img src=\"img/delta_time_example_1.jpg\" width = \"600px\">"
   ]
  },
  {
   "cell_type": "markdown",
   "metadata": {},
   "source": [
    "<img src=\"img/delta_time_example_2.jpg\" width = \"600px\">"
   ]
  },
  {
   "cell_type": "markdown",
   "metadata": {},
   "source": [
    "#### What we should know before using Delta Time ? "
   ]
  },
  {
   "cell_type": "markdown",
   "metadata": {},
   "source": [
    "<img src=\"img/how2_use_delta_time.jpg\" width=\"600px\">"
   ]
  },
  {
   "cell_type": "markdown",
   "metadata": {},
   "source": [
    "> Because of the multiplication with delta time (which is like 0.02 very small) you need to multiply this with larger amount of numbers to get faster effects "
   ]
  },
  {
   "cell_type": "markdown",
   "metadata": {},
   "source": [
    "#### How to get Delta Time in Python or in Pygame "
   ]
  },
  {
   "cell_type": "markdown",
   "metadata": {},
   "source": [
    "<img src=\"img/how2_get_dt_in_py.jpg\" width=\"600px\"> \n",
    "\n",
    "> Second approach is recommended because  it is more precise(more sensetive). "
   ]
  },
  {
   "cell_type": "markdown",
   "metadata": {},
   "source": [
    "#### First Method : Using `Dt = Clock.tick(framerate)` to get and set delta time"
   ]
  },
  {
   "cell_type": "markdown",
   "metadata": {},
   "source": [
    "You can see the Dt value before configuration : "
   ]
  },
  {
   "cell_type": "code",
   "execution_count": 1,
   "metadata": {},
   "outputs": [
    {
     "name": "stdout",
     "output_type": "stream",
     "text": [
      "pygame 2.1.2 (SDL 2.0.18, Python 3.10.6)\n",
      "Hello from the pygame community. https://www.pygame.org/contribute.html\n"
     ]
    }
   ],
   "source": [
    "import pygame  \n",
    "\n",
    "pygame.init() \n",
    "font = pygame.font.Font(None , 30)\n",
    "\n",
    "def debug(info , y = 10 , x = 10):  \n",
    "    display_surface = pygame.display.get_surface() \n",
    "    debug_surf = font.render(str(info) , True , 'White') \n",
    "    debug_rect = debug_surf.get_rect(topleft = (x,y) ) \n",
    "    pygame.draw.rect(display_surface , 'Black' , debug_rect)  \n",
    "    display_surface.blit(debug_surf , debug_rect) \n"
   ]
  },
  {
   "cell_type": "code",
   "execution_count": 2,
   "metadata": {},
   "outputs": [
    {
     "ename": "error",
     "evalue": "display Surface quit",
     "output_type": "error",
     "traceback": [
      "\u001b[1;31m---------------------------------------------------------------------------\u001b[0m",
      "\u001b[1;31merror\u001b[0m                                     Traceback (most recent call last)",
      "\u001b[1;32mc:\\Users\\Bahattin Yüksel\\APC_Clear_Code\\6-FrameRate_and_DeltaTime.ipynb Hücre 19\u001b[0m in \u001b[0;36m<cell line: 10>\u001b[1;34m()\u001b[0m\n\u001b[0;32m     <a href='vscode-notebook-cell:/c%3A/Users/Bahattin%20Y%C3%BCksel/APC_Clear_Code/6-FrameRate_and_DeltaTime.ipynb#X25sZmlsZQ%3D%3D?line=15'>16</a>\u001b[0m         exit() \n\u001b[0;32m     <a href='vscode-notebook-cell:/c%3A/Users/Bahattin%20Y%C3%BCksel/APC_Clear_Code/6-FrameRate_and_DeltaTime.ipynb#X25sZmlsZQ%3D%3D?line=16'>17</a>\u001b[0m         pygame\u001b[39m.\u001b[39mquit()  \n\u001b[1;32m---> <a href='vscode-notebook-cell:/c%3A/Users/Bahattin%20Y%C3%BCksel/APC_Clear_Code/6-FrameRate_and_DeltaTime.ipynb#X25sZmlsZQ%3D%3D?line=18'>19</a>\u001b[0m screen\u001b[39m.\u001b[39;49mfill((\u001b[39m255\u001b[39;49m,\u001b[39m255\u001b[39;49m,\u001b[39m255\u001b[39;49m)) \n\u001b[0;32m     <a href='vscode-notebook-cell:/c%3A/Users/Bahattin%20Y%C3%BCksel/APC_Clear_Code/6-FrameRate_and_DeltaTime.ipynb#X25sZmlsZQ%3D%3D?line=19'>20</a>\u001b[0m rect\u001b[39m.\u001b[39mcenterx \u001b[39m+\u001b[39m\u001b[39m=\u001b[39m test_speed \n\u001b[0;32m     <a href='vscode-notebook-cell:/c%3A/Users/Bahattin%20Y%C3%BCksel/APC_Clear_Code/6-FrameRate_and_DeltaTime.ipynb#X25sZmlsZQ%3D%3D?line=20'>21</a>\u001b[0m pygame\u001b[39m.\u001b[39mdraw\u001b[39m.\u001b[39mrect(screen , (\u001b[39m255\u001b[39m,\u001b[39m0\u001b[39m,\u001b[39m0\u001b[39m) , rect) \n",
      "\u001b[1;31merror\u001b[0m: display Surface quit"
     ]
    },
    {
     "ename": "",
     "evalue": "",
     "output_type": "error",
     "traceback": [
      "Geçerli hücrede veya önceki bir hücrede kod yürütülürken Çekirdek kilitlendi. Hatanın olası nedenini belirlemek için lütfen hücrelerdeki kodu gözden geçirin. Daha fazla bilgi için <a href='https://aka.ms/vscodeJupyterKernelCrash'>buraya</a> tıklayın. Daha fazla ayrıntı için Jupyter <a href='command:jupyter.viewOutput'>günlüğünü</a> görüntüleyin."
     ]
    }
   ],
   "source": [
    "import pygame \n",
    "\n",
    "pygame.init() \n",
    "screen = pygame.display.set_mode((1000 , 600)) \n",
    "rect = pygame.Rect(50 , 300 , 50 , 50)   \n",
    "test_speed = 5\n",
    "clock = pygame.time.Clock()\n",
    "\n",
    "running = True  \n",
    "while running: \n",
    "\n",
    "    Dt = clock.tick(60)\n",
    "\n",
    "    for e in pygame.event.get(): \n",
    "        if e.type == pygame.QUIT: \n",
    "            exit() \n",
    "            pygame.quit()  \n",
    "\n",
    "    screen.fill((255,255,255)) \n",
    "    rect.centerx += test_speed \n",
    "    pygame.draw.rect(screen , (255,0,0) , rect) \n",
    "    debug(Dt) # clock.tick(x) method return 1000/x which is millisecond/frameRate \n",
    "    # But we want to use second/frame_Rate for delta_time (because of multiplication steps). So that we are gonna divide it with 1000 in the next\n",
    "    # chapter\n",
    "    pygame.display.update()\n",
    "\n",
    "    "
   ]
  },
  {
   "cell_type": "markdown",
   "metadata": {},
   "source": [
    "Dt with Configuration : "
   ]
  },
  {
   "cell_type": "code",
   "execution_count": 2,
   "metadata": {},
   "outputs": [
    {
     "ename": "error",
     "evalue": "display Surface quit",
     "output_type": "error",
     "traceback": [
      "\u001b[1;31m---------------------------------------------------------------------------\u001b[0m",
      "\u001b[1;31merror\u001b[0m                                     Traceback (most recent call last)",
      "\u001b[1;32mc:\\Users\\Bahattin Yüksel\\APC_Clear_Code\\6-FrameRate_and_DeltaTime.ipynb Hücre 21\u001b[0m in \u001b[0;36m<cell line: 11>\u001b[1;34m()\u001b[0m\n\u001b[0;32m     <a href='vscode-notebook-cell:/c%3A/Users/Bahattin%20Y%C3%BCksel/APC_Clear_Code/6-FrameRate_and_DeltaTime.ipynb#X31sZmlsZQ%3D%3D?line=17'>18</a>\u001b[0m         exit() \n\u001b[0;32m     <a href='vscode-notebook-cell:/c%3A/Users/Bahattin%20Y%C3%BCksel/APC_Clear_Code/6-FrameRate_and_DeltaTime.ipynb#X31sZmlsZQ%3D%3D?line=18'>19</a>\u001b[0m         pygame\u001b[39m.\u001b[39mquit()  \n\u001b[1;32m---> <a href='vscode-notebook-cell:/c%3A/Users/Bahattin%20Y%C3%BCksel/APC_Clear_Code/6-FrameRate_and_DeltaTime.ipynb#X31sZmlsZQ%3D%3D?line=20'>21</a>\u001b[0m screen\u001b[39m.\u001b[39;49mfill((\u001b[39m255\u001b[39;49m,\u001b[39m255\u001b[39;49m,\u001b[39m255\u001b[39;49m)) \n\u001b[0;32m     <a href='vscode-notebook-cell:/c%3A/Users/Bahattin%20Y%C3%BCksel/APC_Clear_Code/6-FrameRate_and_DeltaTime.ipynb#X31sZmlsZQ%3D%3D?line=21'>22</a>\u001b[0m rect\u001b[39m.\u001b[39mcenterx \u001b[39m+\u001b[39m\u001b[39m=\u001b[39m test_speed \u001b[39m*\u001b[39m Dt \n\u001b[0;32m     <a href='vscode-notebook-cell:/c%3A/Users/Bahattin%20Y%C3%BCksel/APC_Clear_Code/6-FrameRate_and_DeltaTime.ipynb#X31sZmlsZQ%3D%3D?line=22'>23</a>\u001b[0m pygame\u001b[39m.\u001b[39mdraw\u001b[39m.\u001b[39mrect(screen , (\u001b[39m255\u001b[39m,\u001b[39m0\u001b[39m,\u001b[39m0\u001b[39m) , rect) \n",
      "\u001b[1;31merror\u001b[0m: display Surface quit"
     ]
    },
    {
     "ename": "",
     "evalue": "",
     "output_type": "error",
     "traceback": [
      "Geçerli hücrede veya önceki bir hücrede kod yürütülürken Çekirdek kilitlendi. Hatanın olası nedenini belirlemek için lütfen hücrelerdeki kodu gözden geçirin. Daha fazla bilgi için <a href='https://aka.ms/vscodeJupyterKernelCrash'>buraya</a> tıklayın. Daha fazla ayrıntı için Jupyter <a href='command:jupyter.viewOutput'>günlüğünü</a> görüntüleyin."
     ]
    }
   ],
   "source": [
    "import pygame \n",
    "\n",
    "pygame.init() \n",
    "screen = pygame.display.set_mode((1000 , 600)) \n",
    "rect = pygame.Rect(50 , 300 , 50 , 50)   \n",
    "# test_speed = 5 Because of Delta Time is very low , moving object is very slow \n",
    "test_speed = 200\n",
    "clock = pygame.time.Clock()\n",
    "\n",
    "running = True  \n",
    "while running: \n",
    "\n",
    "    # Dt = clock.tick(60)/1000 # (1000 millisecond/60) / 1000 = (second/60) moves smoothly with an normal speed \n",
    "    Dt = clock.tick(10)/1000 # moves with lag but with an normal speed \n",
    "    # So speed doesnt depend on Frame Rate anymore .\n",
    "\n",
    "    for e in pygame.event.get(): \n",
    "        if e.type == pygame.QUIT: \n",
    "            exit() \n",
    "            pygame.quit()  \n",
    "\n",
    "    screen.fill((255,255,255)) \n",
    "    rect.centerx += test_speed * Dt \n",
    "    pygame.draw.rect(screen , (255,0,0) , rect) \n",
    "    debug(Dt) \n",
    "    pygame.display.update()"
   ]
  },
  {
   "cell_type": "markdown",
   "metadata": {},
   "source": [
    "#### Second Method : Using `Dt = time.time() - previous_time` to get and set Delta Time"
   ]
  },
  {
   "cell_type": "markdown",
   "metadata": {},
   "source": [
    "<img src=\"img/delta_time_breaks_in_higher_frameRates.jpg\" width = \"600px\">"
   ]
  },
  {
   "cell_type": "markdown",
   "metadata": {},
   "source": [
    "> 1. Problem : While adding `rect.centerx += test_speed * Dt` the `test_speed * Dt` value becomes lesser than 1 more often and pygame cut decimals so it becomes `0` . That causes the object to not to move more often. But there is a slightly chance that this value nearly can be greater than 1 . On those times object moves .  \n",
    "\n",
    "> 2. Problem : Cutting decimals makes the movement of rectangle unsystematic. That is what we want to avoid at all costs . "
   ]
  },
  {
   "cell_type": "markdown",
   "metadata": {},
   "source": [
    "##### Problematic Code in down bellow : "
   ]
  },
  {
   "cell_type": "code",
   "execution_count": 1,
   "metadata": {},
   "outputs": [
    {
     "name": "stdout",
     "output_type": "stream",
     "text": [
      "pygame 2.1.2 (SDL 2.0.18, Python 3.10.6)\n",
      "Hello from the pygame community. https://www.pygame.org/contribute.html\n"
     ]
    },
    {
     "ename": "error",
     "evalue": "display Surface quit",
     "output_type": "error",
     "traceback": [
      "\u001b[1;31m---------------------------------------------------------------------------\u001b[0m",
      "\u001b[1;31merror\u001b[0m                                     Traceback (most recent call last)",
      "\u001b[1;32mc:\\Users\\Bahattin Yüksel\\APC_Clear_Code\\6-FrameRate_and_DeltaTime.ipynb Hücre 26\u001b[0m in \u001b[0;36m<cell line: 31>\u001b[1;34m()\u001b[0m\n\u001b[0;32m     <a href='vscode-notebook-cell:/c%3A/Users/Bahattin%20Y%C3%BCksel/APC_Clear_Code/6-FrameRate_and_DeltaTime.ipynb#X35sZmlsZQ%3D%3D?line=36'>37</a>\u001b[0m         exit() \n\u001b[0;32m     <a href='vscode-notebook-cell:/c%3A/Users/Bahattin%20Y%C3%BCksel/APC_Clear_Code/6-FrameRate_and_DeltaTime.ipynb#X35sZmlsZQ%3D%3D?line=37'>38</a>\u001b[0m         pygame\u001b[39m.\u001b[39mquit() \n\u001b[1;32m---> <a href='vscode-notebook-cell:/c%3A/Users/Bahattin%20Y%C3%BCksel/APC_Clear_Code/6-FrameRate_and_DeltaTime.ipynb#X35sZmlsZQ%3D%3D?line=41'>42</a>\u001b[0m screen\u001b[39m.\u001b[39;49mfill(PURPLE) \n\u001b[0;32m     <a href='vscode-notebook-cell:/c%3A/Users/Bahattin%20Y%C3%BCksel/APC_Clear_Code/6-FrameRate_and_DeltaTime.ipynb#X35sZmlsZQ%3D%3D?line=42'>43</a>\u001b[0m rect\u001b[39m.\u001b[39mcenterx \u001b[39m+\u001b[39m\u001b[39m=\u001b[39m uneffective_speed \u001b[39m*\u001b[39m Dt \n\u001b[0;32m     <a href='vscode-notebook-cell:/c%3A/Users/Bahattin%20Y%C3%BCksel/APC_Clear_Code/6-FrameRate_and_DeltaTime.ipynb#X35sZmlsZQ%3D%3D?line=43'>44</a>\u001b[0m debug(uneffective_speed \u001b[39m*\u001b[39m Dt)\n",
      "\u001b[1;31merror\u001b[0m: display Surface quit"
     ]
    },
    {
     "ename": "",
     "evalue": "",
     "output_type": "error",
     "traceback": [
      "Geçerli hücrede veya önceki bir hücrede kod yürütülürken Çekirdek kilitlendi. Hatanın olası nedenini belirlemek için lütfen hücrelerdeki kodu gözden geçirin. Daha fazla bilgi için <a href='https://aka.ms/vscodeJupyterKernelCrash'>buraya</a> tıklayın. Daha fazla ayrıntı için Jupyter <a href='command:jupyter.viewOutput'>günlüğünü</a> görüntüleyin."
     ]
    }
   ],
   "source": [
    "import pygame  \n",
    "import time\n",
    "\n",
    "WIDTH , HEIGHT = 1000 , 600 \n",
    "PURPLE = (217 , 0 , 104) \n",
    "PINK = (214 , 30 , 102) \n",
    "LIGHT_BLUE = (30, 102 , 204)\n",
    "\n",
    "pygame.init()  \n",
    "\n",
    "font = pygame.font.Font(None , 30)\n",
    "\n",
    "def debug(info , y = 10 , x = 10):  \n",
    "    display_surface = pygame.display.get_surface() \n",
    "    debug_surf = font.render(str(info) , True , 'White') \n",
    "    debug_rect = debug_surf.get_rect(topleft = (x,y) ) \n",
    "    pygame.draw.rect(display_surface , 'Black' , debug_rect)  \n",
    "    display_surface.blit(debug_surf , debug_rect) \n",
    "\n",
    "\n",
    "screen = pygame.display.set_mode((WIDTH , HEIGHT))   \n",
    "\n",
    "rect = pygame.Rect(50 , 300 , 100 , 100)  \n",
    "uneffective_speed = 200 \n",
    "uneffective_clock = pygame.time.Clock()\n",
    "\n",
    "\n",
    "previous_time = time.time()  \n",
    "\n",
    "running = True  \n",
    "while running : \n",
    "\n",
    "    Dt = time.time() - previous_time  \n",
    "    previous_time = time.time() \n",
    "    for e in pygame.event.get(): \n",
    "        if e.type == pygame.QUIT: \n",
    "            exit() \n",
    "            pygame.quit() \n",
    "\n",
    "\n",
    "    \n",
    "    screen.fill(PURPLE) \n",
    "    rect.centerx += uneffective_speed * Dt \n",
    "    debug(uneffective_speed * Dt) # square moves unregularly \n",
    "    pygame.draw.rect(screen , LIGHT_BLUE , rect) \n",
    "    pygame.display.update() \n",
    "    \n",
    "\n",
    "    "
   ]
  },
  {
   "cell_type": "markdown",
   "metadata": {},
   "source": [
    "### How to pretend these problems ? \n",
    "\n",
    "> 1. __Solution for Problem 1__: copy the `rect.centerx` value by assigning it to another variable called `test_rectx` and make the additition with this variable , e.g `test_rectx += (speed * delta_time)` . After that directly assign this consequance to the `rect.centerx` e.g \n",
    "`rect.centerx = test_rectx` \n",
    "\n",
    ">2. __Solution for Problem 2__ : instead of cutting the decimals off , we need to round the decimals to get better results. We do that with the `round(test_rectx)` method. "
   ]
  },
  {
   "cell_type": "code",
   "execution_count": 1,
   "metadata": {},
   "outputs": [
    {
     "name": "stdout",
     "output_type": "stream",
     "text": [
      "pygame 2.1.2 (SDL 2.0.18, Python 3.10.6)\n",
      "Hello from the pygame community. https://www.pygame.org/contribute.html\n"
     ]
    },
    {
     "ename": "error",
     "evalue": "display Surface quit",
     "output_type": "error",
     "traceback": [
      "\u001b[1;31m---------------------------------------------------------------------------\u001b[0m",
      "\u001b[1;31merror\u001b[0m                                     Traceback (most recent call last)",
      "\u001b[1;32mc:\\Users\\Bahattin Yüksel\\APC_Clear_Code\\6-FrameRate_and_DeltaTime.ipynb Hücre 28\u001b[0m in \u001b[0;36m<cell line: 32>\u001b[1;34m()\u001b[0m\n\u001b[0;32m     <a href='vscode-notebook-cell:/c%3A/Users/Bahattin%20Y%C3%BCksel/APC_Clear_Code/6-FrameRate_and_DeltaTime.ipynb#X41sZmlsZQ%3D%3D?line=37'>38</a>\u001b[0m         exit() \n\u001b[0;32m     <a href='vscode-notebook-cell:/c%3A/Users/Bahattin%20Y%C3%BCksel/APC_Clear_Code/6-FrameRate_and_DeltaTime.ipynb#X41sZmlsZQ%3D%3D?line=38'>39</a>\u001b[0m         pygame\u001b[39m.\u001b[39mquit() \n\u001b[1;32m---> <a href='vscode-notebook-cell:/c%3A/Users/Bahattin%20Y%C3%BCksel/APC_Clear_Code/6-FrameRate_and_DeltaTime.ipynb#X41sZmlsZQ%3D%3D?line=42'>43</a>\u001b[0m screen\u001b[39m.\u001b[39;49mfill(PURPLE) \n\u001b[0;32m     <a href='vscode-notebook-cell:/c%3A/Users/Bahattin%20Y%C3%BCksel/APC_Clear_Code/6-FrameRate_and_DeltaTime.ipynb#X41sZmlsZQ%3D%3D?line=43'>44</a>\u001b[0m test_rect_x \u001b[39m+\u001b[39m\u001b[39m=\u001b[39m uneffective_speed \u001b[39m*\u001b[39m Dt  \n\u001b[0;32m     <a href='vscode-notebook-cell:/c%3A/Users/Bahattin%20Y%C3%BCksel/APC_Clear_Code/6-FrameRate_and_DeltaTime.ipynb#X41sZmlsZQ%3D%3D?line=44'>45</a>\u001b[0m rect\u001b[39m.\u001b[39mcenterx \u001b[39m=\u001b[39m \u001b[39mround\u001b[39m(test_rect_x)\n",
      "\u001b[1;31merror\u001b[0m: display Surface quit"
     ]
    },
    {
     "ename": "",
     "evalue": "",
     "output_type": "error",
     "traceback": [
      "Geçerli hücrede veya önceki bir hücrede kod yürütülürken Çekirdek kilitlendi. Hatanın olası nedenini belirlemek için lütfen hücrelerdeki kodu gözden geçirin. Daha fazla bilgi için <a href='https://aka.ms/vscodeJupyterKernelCrash'>buraya</a> tıklayın. Daha fazla ayrıntı için Jupyter <a href='command:jupyter.viewOutput'>günlüğünü</a> görüntüleyin."
     ]
    }
   ],
   "source": [
    "import pygame  \n",
    "import time\n",
    "\n",
    "WIDTH , HEIGHT = 1000 , 600 \n",
    "PURPLE = (217 , 0 , 104) \n",
    "PINK = (214 , 30 , 102) \n",
    "LIGHT_BLUE = (30, 102 , 204)\n",
    "\n",
    "pygame.init()  \n",
    "\n",
    "font = pygame.font.Font(None , 30)\n",
    "\n",
    "def debug(info , y = 10 , x = 10):  \n",
    "    display_surface = pygame.display.get_surface() \n",
    "    debug_surf = font.render(str(info) , True , 'White') \n",
    "    debug_rect = debug_surf.get_rect(topleft = (x,y) ) \n",
    "    pygame.draw.rect(display_surface , 'Black' , debug_rect)  \n",
    "    display_surface.blit(debug_surf , debug_rect) \n",
    "\n",
    "\n",
    "screen = pygame.display.set_mode((WIDTH , HEIGHT))   \n",
    "\n",
    "rect = pygame.Rect(50 , 300 , 100 , 100)  \n",
    "uneffective_speed = 200 \n",
    "uneffective_clock = pygame.time.Clock()\n",
    "\n",
    "test_rect_x = rect.centerx\n",
    "\n",
    "previous_time = time.time()  \n",
    "\n",
    "running = True  \n",
    "while running : \n",
    "\n",
    "    Dt = time.time() - previous_time  \n",
    "    previous_time = time.time() \n",
    "    for e in pygame.event.get(): \n",
    "        if e.type == pygame.QUIT: \n",
    "            exit() \n",
    "            pygame.quit() \n",
    "\n",
    "\n",
    "    \n",
    "    screen.fill(PURPLE) \n",
    "    test_rect_x += uneffective_speed * Dt  \n",
    "    rect.centerx = round(test_rect_x)\n",
    "    debug(round(test_rect_x)) # square moves regularly \n",
    "    pygame.draw.rect(screen , LIGHT_BLUE , rect) \n",
    "    pygame.display.update() "
   ]
  },
  {
   "cell_type": "markdown",
   "metadata": {},
   "source": [
    "## Grand Project to Reinforce what we have learned : "
   ]
  },
  {
   "cell_type": "markdown",
   "metadata": {},
   "source": [
    "This will continue"
   ]
  },
  {
   "cell_type": "markdown",
   "metadata": {},
   "source": []
  }
 ],
 "metadata": {
  "kernelspec": {
   "display_name": "Python 3.10.6 64-bit (system)",
   "language": "python",
   "name": "python3"
  },
  "language_info": {
   "codemirror_mode": {
    "name": "ipython",
    "version": 3
   },
   "file_extension": ".py",
   "mimetype": "text/x-python",
   "name": "python",
   "nbconvert_exporter": "python",
   "pygments_lexer": "ipython3",
   "version": "3.10.6"
  },
  "orig_nbformat": 4,
  "vscode": {
   "interpreter": {
    "hash": "1e3e800d60de73aef17d6ccee2edb76295f61fcadb681caa85aa19fd4719ff22"
   }
  }
 },
 "nbformat": 4,
 "nbformat_minor": 2
}
