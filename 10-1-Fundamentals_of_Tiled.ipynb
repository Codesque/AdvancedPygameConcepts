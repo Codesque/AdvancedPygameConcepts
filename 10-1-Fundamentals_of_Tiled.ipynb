{
 "cells": [
  {
   "cell_type": "markdown",
   "metadata": {},
   "source": [
    "# Level Creation with Tile "
   ]
  },
  {
   "cell_type": "markdown",
   "metadata": {},
   "source": [
    "Tile is a level editor that allows you to import graphics and then place them in such a way that you end up with a level of a game. "
   ]
  },
  {
   "cell_type": "markdown",
   "metadata": {},
   "source": [
    "<img src=\"img/intro2tile1.jpg\" width=\"600px\">"
   ]
  },
  {
   "cell_type": "markdown",
   "metadata": {},
   "source": [
    "With Tile , you can seperate a specific part of the graphic and insert it to your level. Here is what does tile's interface look like : \n",
    "\n",
    "<img src=\"img/intro2tile2.jpg\" width=\"600px\">"
   ]
  },
  {
   "cell_type": "markdown",
   "metadata": {},
   "source": [
    "To make some projects in Tiled , we need to know some basic terms of it. We can explain it in painting terms so that you would easily understand . There are three elements in Tiled that you have to be aware of :  \n",
    "\n",
    "<img src=\"img/termsOfTiled.jpg\" width=\"300px\">\n",
    "\n",
    "> 1. __MAP__ : is the canvas so the element that we are painting on \n",
    "\n",
    "> 2. __TILESETS__ : in painting terms , colors of the Tiled are called Tilesets. This is where we are gonna take the elements from , and place it on the map. \n",
    "\n",
    "> 3. __SELECTION TOOLS__ : in painting terms , brushes of the Tiled are called Selection Tools that we can use to select different tilesets "
   ]
  },
  {
   "cell_type": "markdown",
   "metadata": {},
   "source": [
    "To create a new project , First of all , we need to create a __Map__ , We can do this by clicking the *New Map* button at the starting of the program and then we can get this menu : \n",
    "\n",
    "<img src=\"img/newMap1.jpg\" width=\"300px\">"
   ]
  },
  {
   "cell_type": "markdown",
   "metadata": {},
   "source": [
    "Most of the time you are gonna struggle with the __Orientation__ tab. The other ones nearly used. There are 4 types of orientations \n",
    "\n",
    "<img src=\"img/newMap2.jpg\">"
   ]
  },
  {
   "cell_type": "markdown",
   "metadata": {},
   "source": [
    "> In Orthogonal you have square tiles where you can place different elemets. Games like Mario and Zelda use this kind of style.   \n",
    "> In Isometric you have this 45 degree top down look . Games like simcity2D or Final Fantasy Tactics had the same style  \n",
    "> In Hexagonal , you have an Hexagonal ground which is like in the Civilazation Game  \n",
    "\n",
    ">> Orthogonal and Isometric are often used in games . Hexagonal games are rare"
   ]
  },
  {
   "cell_type": "markdown",
   "metadata": {},
   "source": [
    "##### Orthogonal Design \n",
    "<img src=\"img/orthogonalDesignedGames.jpg\" width=\"200px\"> "
   ]
  },
  {
   "cell_type": "markdown",
   "metadata": {},
   "source": [
    "##### Isometric Design \n",
    "\n",
    "<img src=\"img/isometricDesignedGames.jpg\" width=\"300px\">"
   ]
  },
  {
   "cell_type": "markdown",
   "metadata": {},
   "source": [
    "##### Hexagonal Design \n",
    "\n",
    "<img src=\"img/hexagonalDesignedGames.jpg\" width=\"700px\">"
   ]
  },
  {
   "cell_type": "markdown",
   "metadata": {},
   "source": [
    "While creating new Map in the \"new map\" menu : \n",
    "\n",
    "<img src=\"img/newMap3.jpg\" > \n",
    "\n",
    "We need to determine the map size and the tile size . __Map Size__ is our canvas size in painting terms. A __Tile__ is the homogen ordered small pieces of canvas. __Tile Size__ is the size of small units that forms the canvas. "
   ]
  },
  {
   "cell_type": "markdown",
   "metadata": {},
   "source": [
    "<img src=\"img/tileSize1.jpg\" width=\"600px\">\n",
    "\n",
    "Determining tile size is the first thing that you must be carefull about. Because the tile size that you are gonna use also gonna tear apart the graphics that you are gonna use. Tearing apart it with wrong sizes makes your project unworkable. \n",
    "\n",
    "> General sizes that used are 32x32 px , 64x64 px , 128x128 px .... But you multiple sizes can be avalible for this tile set , you need to check from some source \n",
    "\n",
    "> We recommend you to determine the most suitable tile size by photoshop like this : \n",
    "\n",
    ">> <img src=\"img/tileSize2.jpg\">"
   ]
  },
  {
   "cell_type": "markdown",
   "metadata": {},
   "source": [
    "After configuring these , we face with this interface : \n",
    "\n",
    "<img src=\"img/newMap4.jpg\" width=\"600px\">"
   ]
  },
  {
   "cell_type": "markdown",
   "metadata": {},
   "source": [
    "Purple one is map , Red one is the Tile Set. We explain them before. Additionaly we have something called __Layers__ in the yellow part.\n",
    "\n",
    "> __Layers__ are used to put a surface into top of the other surface "
   ]
  },
  {
   "cell_type": "markdown",
   "metadata": {},
   "source": [
    "The other thing that we need to know about this interface is the brushes that we are going to use. \n",
    "\n",
    "<img src=\"img/brushes.jpg\">"
   ]
  },
  {
   "cell_type": "markdown",
   "metadata": {},
   "source": [
    "\n",
    "\n",
    "> Stamp Brush (The First One): That is like the default brush \n",
    "\n",
    "\n",
    ">Fill Brush (The Third One) : Used to fill some area with a color \n",
    "\n",
    "\n",
    ">Eraser (The Fifth One) : Used to delete things"
   ]
  },
  {
   "cell_type": "markdown",
   "metadata": {},
   "source": [
    "After this , We need to save our tmx file with `CTRL + S`"
   ]
  },
  {
   "cell_type": "markdown",
   "metadata": {},
   "source": [
    "After that we need to create a Tile Set from clicking this button : \n",
    "\n",
    "<img src=\"img/newTileset1.jpg\">"
   ]
  },
  {
   "cell_type": "markdown",
   "metadata": {},
   "source": [
    "And then you get this menu : \n",
    "\n",
    "<img src=\"img/newTileset2.jpg\">"
   ]
  },
  {
   "cell_type": "markdown",
   "metadata": {},
   "source": [
    "__IMPORTANT NOTE__ : Most of the time you will want your Tileset's tilesizes to be equal to map's tilesizes(Which shown in the image above) . In Some rare projects you can aim reverse of this but mind that it is a bug prone behaviour. "
   ]
  },
  {
   "cell_type": "markdown",
   "metadata": {},
   "source": [
    "__IMPORTANT NOTE__ : Before drawing something on the map , look at which layer you are on . You dont want to draw the thing on the wrong layer. it just demonlishes your work. "
   ]
  },
  {
   "cell_type": "markdown",
   "metadata": {},
   "source": [
    "__IMPORTANT NOTE__ : You can use the dice sign by choosing multiple tiles of your graphics and you can change the probabilty of occuring an specific tile by tsx tab . In the attributes menu , you will see the 'probabilty' script"
   ]
  },
  {
   "cell_type": "markdown",
   "metadata": {},
   "source": [
    "To place objects which are independent to tiles , You need to : \n",
    "\n",
    "> 1. Create an Object Layer \n",
    "> 2. Create a new TileSet but instead of Tile set type , choose `art collection` \n",
    "> 3. When you determined the file path for your art collection , import a png file to that tsx tab by dragging the image into it. "
   ]
  },
  {
   "cell_type": "markdown",
   "metadata": {},
   "source": []
  }
 ],
 "metadata": {
  "kernelspec": {
   "display_name": "Python 3.10.6 64-bit (system)",
   "language": "python",
   "name": "python3"
  },
  "language_info": {
   "name": "python",
   "version": "3.10.6"
  },
  "orig_nbformat": 4,
  "vscode": {
   "interpreter": {
    "hash": "1e3e800d60de73aef17d6ccee2edb76295f61fcadb681caa85aa19fd4719ff22"
   }
  }
 },
 "nbformat": 4,
 "nbformat_minor": 2
}
