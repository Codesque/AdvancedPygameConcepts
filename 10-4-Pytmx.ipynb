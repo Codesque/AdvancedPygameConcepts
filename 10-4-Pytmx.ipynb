{
 "cells": [
  {
   "cell_type": "markdown",
   "metadata": {},
   "source": [
    "# Pytmx"
   ]
  },
  {
   "cell_type": "markdown",
   "metadata": {},
   "source": [
    "### How to import our levels in our game made by Python ? "
   ]
  },
  {
   "cell_type": "markdown",
   "metadata": {},
   "source": [
    "There are 2 ways of doing it : \n",
    "\n",
    "<img src=\"img/importing_tiles_2ways.jpg\" width=\"600px\">"
   ]
  },
  {
   "cell_type": "markdown",
   "metadata": {},
   "source": [
    "> First Path - import the data via CSV/JSON : This lasts like forever and there is an id problem with the CSV files. \n",
    "\n",
    "> Second Path - using pytmx module : This is the easiest one we are gonna learn it here . \n",
    "\n",
    "So if you ask what pytmx does is , it imports our levels to our game easily. "
   ]
  },
  {
   "cell_type": "markdown",
   "metadata": {},
   "source": [
    "### Implementation of Pytmx : "
   ]
  },
  {
   "cell_type": "code",
   "execution_count": 1,
   "metadata": {},
   "outputs": [
    {
     "name": "stdout",
     "output_type": "stream",
     "text": [
      "pygame 2.1.2 (SDL 2.0.18, Python 3.10.6)\n",
      "Hello from the pygame community. https://www.pygame.org/contribute.html\n",
      "Castle\n",
      "Castle\n",
      "Castle\n",
      "Castle\n",
      "Castle\n"
     ]
    },
    {
     "ename": "error",
     "evalue": "display Surface quit",
     "output_type": "error",
     "traceback": [
      "\u001b[1;31m---------------------------------------------------------------------------\u001b[0m",
      "\u001b[1;31merror\u001b[0m                                     Traceback (most recent call last)",
      "\u001b[1;32mc:\\Users\\Bahattin Yüksel\\APC_Clear_Code\\10-4-Pytmx.ipynb Hücre 6\u001b[0m in \u001b[0;36m<cell line: 120>\u001b[1;34m()\u001b[0m\n\u001b[0;32m    <a href='vscode-notebook-cell:/c%3A/Users/Bahattin%20Y%C3%BCksel/APC_Clear_Code/10-4-Pytmx.ipynb#W6sZmlsZQ%3D%3D?line=127'>128</a>\u001b[0m         \u001b[39mif\u001b[39;00m e\u001b[39m.\u001b[39mkey \u001b[39m==\u001b[39m pygame\u001b[39m.\u001b[39mK_ESCAPE: \n\u001b[0;32m    <a href='vscode-notebook-cell:/c%3A/Users/Bahattin%20Y%C3%BCksel/APC_Clear_Code/10-4-Pytmx.ipynb#W6sZmlsZQ%3D%3D?line=128'>129</a>\u001b[0m             pygame\u001b[39m.\u001b[39mevent\u001b[39m.\u001b[39mpost(pygame\u001b[39m.\u001b[39mevent\u001b[39m.\u001b[39mEvent(pygame\u001b[39m.\u001b[39mQUIT)) \n\u001b[1;32m--> <a href='vscode-notebook-cell:/c%3A/Users/Bahattin%20Y%C3%BCksel/APC_Clear_Code/10-4-Pytmx.ipynb#W6sZmlsZQ%3D%3D?line=130'>131</a>\u001b[0m screen\u001b[39m.\u001b[39;49mfill((\u001b[39m204\u001b[39;49m,\u001b[39m30\u001b[39;49m,\u001b[39m102\u001b[39;49m))  \n\u001b[0;32m    <a href='vscode-notebook-cell:/c%3A/Users/Bahattin%20Y%C3%BCksel/APC_Clear_Code/10-4-Pytmx.ipynb#W6sZmlsZQ%3D%3D?line=131'>132</a>\u001b[0m sprite_group\u001b[39m.\u001b[39mdraw(screen)\n\u001b[0;32m    <a href='vscode-notebook-cell:/c%3A/Users/Bahattin%20Y%C3%BCksel/APC_Clear_Code/10-4-Pytmx.ipynb#W6sZmlsZQ%3D%3D?line=132'>133</a>\u001b[0m pygame\u001b[39m.\u001b[39mdisplay\u001b[39m.\u001b[39mupdate()\n",
      "\u001b[1;31merror\u001b[0m: display Surface quit"
     ]
    },
    {
     "ename": "",
     "evalue": "",
     "output_type": "error",
     "traceback": [
      "\u001b[1;31mGeçerli hücrede veya önceki bir hücrede kod yürütülürken Çekirdek kilitlendi. Hatanın olası nedenini belirlemek için lütfen hücrelerdeki kodu gözden geçirin. Daha fazla bilgi için <a href='https://aka.ms/vscodeJupyterKernelCrash'>buraya</a> tıklayın. Daha fazla ayrıntı için Jupyter <a href='command:jupyter.viewOutput'>günlüğünü</a> görüntüleyin."
     ]
    }
   ],
   "source": [
    "import pygame \n",
    "import pytmx \n",
    "from pytmx.util_pygame import load_pygame \n",
    "\n",
    "pygame.init()   \n",
    "WIDTH , HEIGHT = 800 , 800\n",
    "screen = pygame.display.set_mode((WIDTH , HEIGHT))  \n",
    "\n",
    "class Tile(pygame.sprite.Sprite): \n",
    "\n",
    "    def __init__(self , pos , surf , groups) -> None:\n",
    "        super().__init__(groups)  \n",
    "        self.image = surf \n",
    "        self.rect = self.image.get_rect(topleft = pos) \n",
    "\n",
    "\n",
    "tmx_data = load_pygame(\"../Tiled/data/tmx/basic.tmx\") \n",
    "sprite_group = pygame.sprite.Group() \n",
    "\n",
    "# getting layers : \n",
    "def get_layers(tmx_data):\n",
    "    print(tmx_data.layers)\n",
    "    # [<TiledTileLayer[1]: \"Ground\">, <TiledTileLayer[2]: \"Plants\">, <TiledTileLayer[6]: \"Floor\">, <TiledTileLayer[5]: \"Pipes\">, <TiledObjectGroup[3]: \"Objects\">]\n",
    "\n",
    "def get_visible_layers(tmx_data):\n",
    "    for layer in tmx_data.visible_layers: \n",
    "        print(layer) \n",
    "    #<TiledTileLayer[1]: \"Ground\">\n",
    "    #<TiledTileLayer[2]: \"Plants\">\n",
    "    #<TiledTileLayer[6]: \"Floor\">\n",
    "    #<TiledTileLayer[5]: \"Pipes\">\n",
    "    #<TiledObjectGroup[3]: \"Objects\"> \n",
    "\n",
    "def layernames_as_dict(tmx_data):\n",
    "    print(tmx_data.layernames) \n",
    "    #{'Ground': <TiledTileLayer[1]: \"Ground\">, 'Plants': <TiledTileLayer[2]: \"Plants\">\n",
    "    # , 'Floor': <TiledTileLayer[6]: \"Floor\">, 'Pipes': <TiledTileLayer[5]: \"Pipes\">, 'Objects': <TiledObjectGroup[3]: \"Objects\">}\n",
    "\n",
    "def get_layer_by_name(tmx_data , layer_name = \"Floor\"):\n",
    "    print(tmx_data.get_layer_by_name(layer_name)) \n",
    "    #<TiledTileLayer[6]: \"Floor\">\n",
    "\n",
    "def get_object_layers(tmx_data):\n",
    "    for obj in tmx_data.objectgroups: \n",
    "        print(obj) \n",
    "        #<TiledObjectGroup[3]: \"Objects\">\n",
    "\n",
    "def get_tile(tmx_data ,  layer_name = \"Floor\" , TILE_WIDTH = 128 ,TILE_HEIGHT = 128 ):\n",
    "    layer = tmx_data.get_layer_by_name(layer_name) \n",
    "    for x , y , surf in layer.tiles(): \n",
    "        print(x * TILE_WIDTH) \n",
    "        print(y * TILE_HEIGHT) \n",
    "        print(surf)\n",
    "\n",
    "def get_csv_data(tmx_data, layer_name = \"Floor\" ):\n",
    "    \n",
    "    layer = tmx_data.get_layer_by_name(layer_name)\n",
    "    print(layer.data)  \n",
    "    # CSV DATA = [[9, 9, 9, 9, 9, 9, 9, 9, 9, 9, 9, 9, 10, 11, 11, 11, 11, 11, 12, 9, 9, 9, 9, 9, 9, 9, 9, 9, 9, 9, 9, 9, 9, 9, 9], ...\n",
    "    print(layer.id)\n",
    "    #6\n",
    "    \n",
    "\n",
    "# getting objects \n",
    "def get_objects(tmx_data):\n",
    "    object_layer = tmx_data.get_layer_by_name(\"Objects\") \n",
    "    for obj in object_layer: \n",
    "        print(obj.x) # obj.x return absolute value of location \n",
    "        print(obj.y) \n",
    "        print(obj.image) \n",
    "        if obj.type == \"Shape\": \n",
    "            if obj.name == \"Marker\": \n",
    "                print(obj.x , obj.y) \n",
    "\n",
    "            if obj.name == \"Rectangle\": \n",
    "                print(obj.x , obj.y) \n",
    "                print(obj.width , obj.height) \n",
    "                print(obj.as_points)  \n",
    "\n",
    "            if obj.name == \"Ellipse\": \n",
    "                print(dir(obj)) \n",
    "\n",
    "            if obj.name == \"Polygon\": \n",
    "                print(obj.as_points) # prints the bounding box cordinates\n",
    "                print(obj.points) # prints the border of the polygons \n",
    "            \"\"\"\n",
    "            2016.0\n",
    "            1599.33\n",
    "            <Surface(768x768x32 SW)>\n",
    "            543.41\n",
    "            1021.0999999999999\n",
    "            <Surface(768x768x32 SW)>\n",
    "            3448.28\n",
    "            2010.0900000000001\n",
    "            <Surface(768x768x32 SW)>\n",
    "            3425.65\n",
    "            -261.337\n",
    "            <Surface(768x768x32 SW)>\n",
    "                        \n",
    "            \"\"\"\n",
    "\n",
    "# looping through layer \n",
    "\n",
    "PIXEL_WIDTH , PIXEL_HEIGHT = 128 , 128\n",
    "for layer in tmx_data.visible_layers: \n",
    "    if hasattr(layer , 'data') :  \n",
    "        for x , y , surf in layer.tiles(): \n",
    "            Tile(pos = (x * PIXEL_WIDTH,y * PIXEL_HEIGHT) , surf= surf , groups= sprite_group) \n",
    "\n",
    "object_layer = tmx_data.get_layer_by_name(\"Objects\") \n",
    "\n",
    "for obj in object_layer : \n",
    "    # There is an error . Object type is None bu it shouldnt be None. \n",
    "    Tile(pos = (obj.x , obj.y) , surf= obj.image , groups= sprite_group) \n",
    "\n",
    "while True : \n",
    "    for e in pygame.event.get(): \n",
    "\n",
    "        if e.type == pygame.QUIT: \n",
    "            exit() \n",
    "            pygame.quit() \n",
    "\n",
    "        if e.type == pygame.KEYDOWN: \n",
    "            if e.key == pygame.K_ESCAPE: \n",
    "                pygame.event.post(pygame.event.Event(pygame.QUIT)) \n",
    "\n",
    "    screen.fill((204,30,102))  \n",
    "    sprite_group.draw(screen)\n",
    "    pygame.display.update() \n"
   ]
  }
 ],
 "metadata": {
  "kernelspec": {
   "display_name": "Python 3.10.6 64-bit (system)",
   "language": "python",
   "name": "python3"
  },
  "language_info": {
   "codemirror_mode": {
    "name": "ipython",
    "version": 3
   },
   "file_extension": ".py",
   "mimetype": "text/x-python",
   "name": "python",
   "nbconvert_exporter": "python",
   "pygments_lexer": "ipython3",
   "version": "3.10.6"
  },
  "orig_nbformat": 4,
  "vscode": {
   "interpreter": {
    "hash": "1e3e800d60de73aef17d6ccee2edb76295f61fcadb681caa85aa19fd4719ff22"
   }
  }
 },
 "nbformat": 4,
 "nbformat_minor": 2
}
