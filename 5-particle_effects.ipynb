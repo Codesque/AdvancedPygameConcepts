{
 "cells": [
  {
   "cell_type": "markdown",
   "metadata": {},
   "source": [
    "# Creating Particle Effects In Pygame"
   ]
  },
  {
   "cell_type": "markdown",
   "metadata": {},
   "source": [
    "<img src=\"img/particle_effects_in_a_nutshell.jpg\" width = \"600px\">"
   ]
  },
  {
   "cell_type": "markdown",
   "metadata": {},
   "source": [
    "<img src=\"img/particle_class.jpg\" width=\"600px\">"
   ]
  },
  {
   "cell_type": "markdown",
   "metadata": {},
   "source": [
    "> Third stage is combining the first two stages. In the sense that it cycles throught the `particle_list` and moves all the particles and adds visual effects to them"
   ]
  },
  {
   "cell_type": "markdown",
   "metadata": {},
   "source": [
    "<img src=\"img/signature_of_particle_class.jpg\" width = \"600px\">"
   ]
  },
  {
   "cell_type": "markdown",
   "metadata": {},
   "source": [
    "> Firstly we start with `add_particles` that simply adds particle objects in the `self.particles` list . \n",
    "\n",
    "> If we dont delete our particles after some condition resured , there would be lots of items in the game and that would slow the game down. Because of that we need to delete our particles with `delete_particles(self)` method \n",
    "\n",
    "> `emit(self)` basicly moves particles a bit and draws them to the screen "
   ]
  },
  {
   "cell_type": "markdown",
   "metadata": {},
   "source": [
    "Here is what we are gonna do in emit function : \n",
    "\n",
    "<img src=\"img/signature_of_emit_method.jpg\" width = \"600px\">"
   ]
  },
  {
   "cell_type": "markdown",
   "metadata": {},
   "source": [
    "### Implementation of Basic Particle Principle "
   ]
  },
  {
   "cell_type": "code",
   "execution_count": 1,
   "metadata": {},
   "outputs": [
    {
     "name": "stdout",
     "output_type": "stream",
     "text": [
      "pygame 2.1.2 (SDL 2.0.18, Python 3.10.6)\n",
      "Hello from the pygame community. https://www.pygame.org/contribute.html\n"
     ]
    },
    {
     "ename": "error",
     "evalue": "display Surface quit",
     "output_type": "error",
     "traceback": [
      "\u001b[1;31m---------------------------------------------------------------------------\u001b[0m",
      "\u001b[1;31merror\u001b[0m                                     Traceback (most recent call last)",
      "\u001b[1;32mc:\\Users\\Bahattin Yüksel\\APC_Clear_Code\\5-particle_effects.ipynb Hücre 9\u001b[0m in \u001b[0;36m<cell line: 60>\u001b[1;34m()\u001b[0m\n\u001b[0;32m     <a href='vscode-notebook-cell:/c%3A/Users/Bahattin%20Y%C3%BCksel/APC_Clear_Code/5-particle_effects.ipynb#X12sZmlsZQ%3D%3D?line=66'>67</a>\u001b[0m     \u001b[39mif\u001b[39;00m e\u001b[39m.\u001b[39mtype \u001b[39m==\u001b[39m PARTICLE_EFFECT: \n\u001b[0;32m     <a href='vscode-notebook-cell:/c%3A/Users/Bahattin%20Y%C3%BCksel/APC_Clear_Code/5-particle_effects.ipynb#X12sZmlsZQ%3D%3D?line=67'>68</a>\u001b[0m         particle1\u001b[39m.\u001b[39madd_particles() \n\u001b[1;32m---> <a href='vscode-notebook-cell:/c%3A/Users/Bahattin%20Y%C3%BCksel/APC_Clear_Code/5-particle_effects.ipynb#X12sZmlsZQ%3D%3D?line=70'>71</a>\u001b[0m screen\u001b[39m.\u001b[39;49mfill(WHITE) \n\u001b[0;32m     <a href='vscode-notebook-cell:/c%3A/Users/Bahattin%20Y%C3%BCksel/APC_Clear_Code/5-particle_effects.ipynb#X12sZmlsZQ%3D%3D?line=71'>72</a>\u001b[0m particle1\u001b[39m.\u001b[39memit()\n\u001b[0;32m     <a href='vscode-notebook-cell:/c%3A/Users/Bahattin%20Y%C3%BCksel/APC_Clear_Code/5-particle_effects.ipynb#X12sZmlsZQ%3D%3D?line=72'>73</a>\u001b[0m pygame\u001b[39m.\u001b[39mdisplay\u001b[39m.\u001b[39mupdate()\n",
      "\u001b[1;31merror\u001b[0m: display Surface quit"
     ]
    },
    {
     "ename": "",
     "evalue": "",
     "output_type": "error",
     "traceback": [
      "Geçerli hücrede veya önceki bir hücrede kod yürütülürken Çekirdek kilitlendi. Hatanın olası nedenini belirlemek için lütfen hücrelerdeki kodu gözden geçirin. Daha fazla bilgi için <a href='https://aka.ms/vscodeJupyterKernelCrash'>buraya</a> tıklayın. Daha fazla ayrıntı için Jupyter <a href='command:jupyter.viewOutput'>günlüğünü</a> görüntüleyin."
     ]
    }
   ],
   "source": [
    "\n",
    "import pygame \n",
    "import random \n",
    "\n",
    "WIDTH = 400 \n",
    "HEIGHT = 400 \n",
    "RED = (255,0,0) \n",
    "BLUE = (0,0,255) \n",
    "GREEN = (0,255,0) \n",
    "PINK = (211 , 30 , 176) \n",
    "WHITE = (255,255,255)\n",
    "\n",
    "class ParticlePrinciple : \n",
    "\n",
    "    def __init__(self) -> None:\n",
    "        self.particles = [] \n",
    "\n",
    "    def add_particles(self): \n",
    "        pos_x , pos_y = pygame.mouse.get_pos() \n",
    "        radius = 10 \n",
    "        direction_x = random.randint(-2 , 2) \n",
    "        direction_y = direction_x**2 * random.randint(-1,1) \n",
    "        particle = [[pos_x , pos_y] , radius , [direction_x , direction_y]] \n",
    "        self.particles.append(particle) \n",
    "\n",
    "    def emit(self): \n",
    "        # 1. Delete if there is a particle which has to be destroyed \n",
    "        self.delete_particles()\n",
    "        # 2. Move the added particles \n",
    "        for particle in self.particles : \n",
    "            #pos += direction \n",
    "            particle[0][0] += particle[2][0] \n",
    "            particle[0][1] += particle[2][1] \n",
    "            #decrease the radius for smaller particle per time \n",
    "            particle[1] -= 0.2 \n",
    "\n",
    "            # Draw the particle but with an integer radius \n",
    "            pygame.draw.circle(screen , PINK ,particle[0] , int(particle[1]) )  \n",
    "\n",
    "\n",
    "    def delete_particles(self , RADIUS_THRESHOLD = 0): # RADIUS_THRESHOLD CANNOT BE NEGATIVE\n",
    "        particles_copy = [ particle for particle in self.particles if particle[1] > RADIUS_THRESHOLD  ]\n",
    "        self.particles = particles_copy\n",
    "\n",
    "\n",
    "\n",
    "pygame.init() \n",
    "screen = pygame.display.set_mode((WIDTH , HEIGHT))  \n",
    "bg_color = WHITE  \n",
    "clock = pygame.time.Clock() \n",
    "\n",
    "# We want to create particle on every milisecond : \n",
    "PARTICLE_EFFECT = pygame.USEREVENT + 1  \n",
    "pygame.time.set_timer(PARTICLE_EFFECT , 40) \n",
    "particle1 = ParticlePrinciple()\n",
    "\n",
    "\n",
    "\n",
    "\n",
    "running = True  \n",
    "while running: \n",
    "    for e in pygame.event.get(): \n",
    "        if e.type == pygame.QUIT: \n",
    "            running = False \n",
    "            exit() \n",
    "            pygame.quit()  \n",
    "\n",
    "        if e.type == PARTICLE_EFFECT: \n",
    "            particle1.add_particles() \n",
    "\n",
    "\n",
    "    screen.fill(WHITE) \n",
    "    particle1.emit()\n",
    "    pygame.display.update()\n",
    "    clock.tick(120) \n",
    "\n",
    "         \n",
    "    \n"
   ]
  },
  {
   "cell_type": "markdown",
   "metadata": {},
   "source": [
    "### Implementing Nyan Cat Particle Effect"
   ]
  },
  {
   "cell_type": "markdown",
   "metadata": {},
   "source": [
    "<img src=\"img/nyan_cat_particle_class.jpg\"  width = \"600px\">"
   ]
  },
  {
   "cell_type": "code",
   "execution_count": null,
   "metadata": {},
   "outputs": [],
   "source": [
    "\n",
    "import pygame as pg\n",
    "WIDTH , HEIGHT = 600 , 600 \n",
    "\n",
    "RED = (255,0,0) \n",
    "ORANGE = (255 , 128 , 0) \n",
    "YELLOW = (255 , 255 , 0) \n",
    "GREEN = (0,255,0) \n",
    "LIGHT_BLUE = (0 , 102 , 204) \n",
    "PURPLE = (102 , 0 , 204) \n",
    "\n",
    "RAINBOW = [RED , ORANGE , YELLOW , GREEN , LIGHT_BLUE , PURPLE]\n",
    "\n",
    "\n",
    "class RainbowParticle: \n",
    "    def __init__(self , size = 12 , velocity_x = -1) -> None:\n",
    "        self.particles = []\n",
    "        self.size = size  \n",
    "        self.vx = velocity_x\n",
    "\n",
    "    def add_particles(self,color , offset):\n",
    "        pos_x , pos_y = pg.mouse.get_pos() \n",
    "        pox_y += offset \n",
    "\n",
    "        particle_rect = pg.Rect(pos_x , pos_y ,self.size , self.size)  \n",
    "        self.particles.append((particle_rect , color))\n",
    "        \n",
    "\n",
    "    def delete_particles(self): \n",
    "        particles_copy = [particle for particle in self.particles if particle[0].x > 0]  \n",
    "        self.particles = particles_copy\n",
    "\n",
    "    def emit(self): \n",
    "        self.delete_particles() \n",
    "        for particle in self.particles: \n",
    "            rect = particle[0]\n",
    "            if isinstance(rect , pg.Rect): \n",
    "                rect.x += self.vx  # self.vx is negative \n",
    "                pygame.draw.rect(screen , particle[1] , rect)\n",
    "                \n",
    "\n",
    "pg.init() \n",
    "screen = pg.display.set_mode((WIDTH , HEIGHT))  \n",
    "clock = pg.time.Clock()  \n",
    "\n",
    "RAINBOW_PARTICLE = pg.USEREVENT + 1   \n",
    "particle_spawn_speed = 40 # Millisecond\n",
    "pg.time.set_timer(RAINBOW_PARTICLE ,particle_spawn_speed)  \n",
    "\n",
    "nyan_cat = pg.image.load(\"img/nyan_cat.png\").convert_alpha() \n",
    "nyan_cat = pg.transform.scale(nyan_cat , (100,100)) \n",
    "\n",
    "nyan_cat_particle = RainbowParticle() \n",
    "\n",
    "\n",
    "\n",
    "\n",
    "running = True \n",
    "while running: \n",
    "    for e in pg.event.get(): \n",
    "        if e.type == pg.QUIT: \n",
    "            exit() \n",
    "            pg.quit() \n",
    "\n",
    "        if e.type == RAINBOW_PARTICLE :  \n",
    "            nyan_cat_particle.add_particles() \n",
    "\n",
    "    clock.tick(120) \n",
    "    pg.display.update()\n",
    "\n",
    "        \n"
   ]
  }
 ],
 "metadata": {
  "kernelspec": {
   "display_name": "Python 3.10.6 64-bit (system)",
   "language": "python",
   "name": "python3"
  },
  "language_info": {
   "codemirror_mode": {
    "name": "ipython",
    "version": 3
   },
   "file_extension": ".py",
   "mimetype": "text/x-python",
   "name": "python",
   "nbconvert_exporter": "python",
   "pygments_lexer": "ipython3",
   "version": "3.10.6"
  },
  "orig_nbformat": 4,
  "vscode": {
   "interpreter": {
    "hash": "1e3e800d60de73aef17d6ccee2edb76295f61fcadb681caa85aa19fd4719ff22"
   }
  }
 },
 "nbformat": 4,
 "nbformat_minor": 2
}
