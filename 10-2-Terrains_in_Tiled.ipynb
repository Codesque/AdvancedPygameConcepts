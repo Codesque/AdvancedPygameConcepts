{
 "cells": [
  {
   "cell_type": "markdown",
   "metadata": {},
   "source": [
    "# Creating Terrains in Tiled "
   ]
  },
  {
   "cell_type": "markdown",
   "metadata": {},
   "source": [
    "<img src=\"img/terrains1.jpg\" width=\"600px\">"
   ]
  },
  {
   "cell_type": "markdown",
   "metadata": {},
   "source": [
    "<img src=\"img/terrains2.jpg\" width=\"600px\">"
   ]
  },
  {
   "cell_type": "markdown",
   "metadata": {},
   "source": [
    "> creating corner terrains can be a long process. So the easiest one is the terrain that connetcs terrains from edges. "
   ]
  },
  {
   "cell_type": "markdown",
   "metadata": {},
   "source": [
    "### Creating a Terrain"
   ]
  },
  {
   "cell_type": "markdown",
   "metadata": {},
   "source": [
    "> 1. Create a new tileset without changin any kind of settings , take the image from `\\Users\\User*\\Tiled\\graphics\\tilesets` , save as `\\Users\\User*\\Tiled\\data\\tsx`\n",
    "\n",
    "> 2. Open the tsx tab that just added. Click on the `terrain sets` sign which looks like a photo of an landescape \n",
    "\n",
    "> 3. There would be new tab opened that called `Terrain Sets` , Above of the `News` script , there is a plus sign which you need to click on \n",
    "\n",
    "> 4. Click the terrain type that you wanted . In our case , we are gonna use  `New Edge Set`\n",
    "\n",
    "> 5. Click the connection point that you want to connect eachother automaticly . Be carefull about __IDENTICAL TERRAINS__ "
   ]
  },
  {
   "cell_type": "markdown",
   "metadata": {},
   "source": [
    "##### So What does __IDENTICAL TERRAIN__ mean ? "
   ]
  },
  {
   "cell_type": "markdown",
   "metadata": {},
   "source": [
    "<img src=\"img/identical_terrain1.jpg\">"
   ]
  },
  {
   "cell_type": "markdown",
   "metadata": {},
   "source": [
    "They are different tile sets that has the same connection points as you can see from the image above. When you try to draw something with this kind of terrain , the system couldnt know which tile set to use , so choose the tileset randomly and this kind of thing happens : \n",
    "\n",
    "<img src=\"img/identical_terrains2.jpg\" width=\"600px\">"
   ]
  },
  {
   "cell_type": "markdown",
   "metadata": {},
   "source": [
    "As you can see some of the corners are sharp(red ones) and some of the corners are round (blue ones). It happens because the system decide which tile set to use randomly. "
   ]
  },
  {
   "cell_type": "markdown",
   "metadata": {},
   "source": [
    "##### How to brush our terrains ?"
   ]
  },
  {
   "cell_type": "markdown",
   "metadata": {},
   "source": [
    "> 1. Make sure that you selected the connected points of your terrain and `CTRL + S`'ed after that and opened .tmx tab \n",
    "\n",
    "> 2. Above of `News` , there is `Tile Sets` tab . Beside of `Tile Sets` , there is  `Terrains Sets` , click on it \n",
    "\n",
    "> 3. Select the new terrain set that you have created before and select the terrain's part type.  \n",
    "\n",
    "> 4. Lastly select the terrain brush which looks like 'in frount of  a photo of a landescape , there is a brush ' and start painting. "
   ]
  },
  {
   "cell_type": "markdown",
   "metadata": {},
   "source": [
    "### Identical Tiles in Corner Terrain Sets "
   ]
  },
  {
   "cell_type": "markdown",
   "metadata": {},
   "source": [
    "<img src=\"img/identical_terrains3.jpg\">"
   ]
  },
  {
   "cell_type": "markdown",
   "metadata": {},
   "source": [
    "The yellow rectangled ones are identical terrain tiles. Actually they have no differance than each other so that is not a massive problem but still be carefull about it."
   ]
  },
  {
   "cell_type": "markdown",
   "metadata": {},
   "source": [
    "### Creating an Corner Terrain Set : "
   ]
  },
  {
   "cell_type": "markdown",
   "metadata": {},
   "source": [
    "When you initialise an corner terrain , and you tried to brush it with `terrain brush` That didnt work because if you want to use a corner terrain , there should be a starting point that you initialised from that terrain tab. "
   ]
  },
  {
   "cell_type": "markdown",
   "metadata": {},
   "source": [
    "<img src=\"img/not_identical1.jpg\"> \n",
    "\n",
    "<img src=\"img/not_identical2.jpg\"> \n",
    "\n",
    "__IMPORTANT NOTE__ : You can have two tile sets which has the same tiles. But for our program , these two tiles __ARE NOT IDENTICAL__ . Remind that to yourself while using Corner Terrain Sets , because you have to choose the starting point's tile within the same terrain tab. "
   ]
  },
  {
   "cell_type": "markdown",
   "metadata": {},
   "source": [
    "__IMPORTANT NOTE__ : Corner Terrains also have identity problems . Such as that showed in the image down bellow : \n",
    "\n",
    "<img src=\"img/corner_identical.jpg\" height=\"200px\">  \n",
    "\n",
    "> As you can see , the frames that painted yellow has the same `terrain patterns` which is having a top greenish color and dirt color in the bottom . For the system these two are identical. Because of that , Tiled cant decide which one to fill the surface makes the system choose the tile randomly. \n"
   ]
  },
  {
   "cell_type": "markdown",
   "metadata": {},
   "source": [
    "#### What is `terrain patterns` and why are you saying that making terrain sets with corner tile set is a long process ?  "
   ]
  },
  {
   "cell_type": "markdown",
   "metadata": {},
   "source": [
    "`Terrain patterns` are the combination of terrain types that you must own them to use your current terrain tile set. You can look at the which pattern is provided by you or which arent in the *patterns* tab . \n",
    "\n",
    "<img src=\"img/corner_patterns.jpg\">"
   ]
  },
  {
   "cell_type": "markdown",
   "metadata": {},
   "source": [
    "In our work , we use two terrain types = \"dirt\" and \"vegetation\". There are 4 corners in a square. So this makes the fact that we have to provide 2 * 2 * 2 * 2 = $2^{4}$  combinations to use the terrain tile set. \n",
    "\n",
    "If we wanted to add water and sand type , this makes 4 * 4 * 4 * 4 = $4^{4}$ (256) combinations that we have to provide to the Tiled program to use our terrain tile set. \n",
    "\n",
    "If we wanted to use corner+edge terrain set , we have 8 points in a square , that makes $2^{8} = 256$ combinations at least. This is why I recommend you to make simple terrain sets if you are not making a big game. Basic ones are just enough for a single game. "
   ]
  },
  {
   "cell_type": "markdown",
   "metadata": {},
   "source": [
    "### Exporting As ... "
   ]
  },
  {
   "cell_type": "markdown",
   "metadata": {},
   "source": [
    "Exporting as Tile file doesnt change anything from our .tmx file. It just copies and pastes it. But there are multiple choices that you can choose which depends on which game engine that you are using . But the most used ones are as `.tmx` and as `.csv` . Thus I dont recommend you to use csv files because there is an id problem. "
   ]
  },
  {
   "cell_type": "markdown",
   "metadata": {},
   "source": [
    "##### ID problem of CSV files \n",
    "\n",
    "<img src=\"img/csv_saving_id.jpg\" width=\"800px\">"
   ]
  },
  {
   "cell_type": "markdown",
   "metadata": {},
   "source": [
    "CSV Files saves the id's of the tiles . But the problem is this id is not unique : \n",
    "\n",
    "<img src=\"img/id_problem1.jpg\"> \n",
    "<img src=\"img/id_problem2.jpg\"> "
   ]
  }
 ],
 "metadata": {
  "kernelspec": {
   "display_name": "Python 3.10.6 64-bit (system)",
   "language": "python",
   "name": "python3"
  },
  "language_info": {
   "name": "python",
   "version": "3.10.6"
  },
  "orig_nbformat": 4,
  "vscode": {
   "interpreter": {
    "hash": "1e3e800d60de73aef17d6ccee2edb76295f61fcadb681caa85aa19fd4719ff22"
   }
  }
 },
 "nbformat": 4,
 "nbformat_minor": 2
}
