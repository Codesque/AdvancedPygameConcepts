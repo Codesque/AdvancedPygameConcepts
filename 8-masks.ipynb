{
 "cells": [
  {
   "cell_type": "markdown",
   "metadata": {},
   "source": [
    "# Using Masks In Pygame "
   ]
  },
  {
   "cell_type": "markdown",
   "metadata": {},
   "source": [
    "Masks are the third element of the visuals which brings us much more control over the visual by calculating things in a pixelian way ( which we do it by rectangles default) \n",
    "\n",
    "<img src=\"img/intro2Masks.jpg\" width=\"600px\">"
   ]
  },
  {
   "cell_type": "markdown",
   "metadata": {},
   "source": [
    "For an example we normally control collusions by rectangle . But with the help of the masks , we can detect collusions by pixels. "
   ]
  },
  {
   "cell_type": "markdown",
   "metadata": {},
   "source": [
    "### How mask works ? "
   ]
  },
  {
   "cell_type": "markdown",
   "metadata": {},
   "source": [
    "<img src=\"img/turning_image_surface_into_masks.jpg\" width=\"600\">"
   ]
  },
  {
   "cell_type": "markdown",
   "metadata": {},
   "source": [
    "### What can we do with masks ??? "
   ]
  },
  {
   "cell_type": "markdown",
   "metadata": {},
   "source": [
    "<img src=\"img/what_do_we_use_masks_for.jpg\" width=\"600px\">"
   ]
  },
  {
   "cell_type": "markdown",
   "metadata": {},
   "source": [
    "There should be two thing which we should remember while using masks with sprites \n",
    "\n",
    "> Having an animation for sprite requires changing surface of that character. Because of that in every frame of the animation you have to mask it again and again and again ... \n",
    "\n",
    "> Calculating if the two pixels are touching is the way more harder than calculating if the rectangles are colliding each other . Because of that I recommend you to check if there is rectangle collusion first . Than check if there is a mask collusion (for optimization)"
   ]
  },
  {
   "cell_type": "markdown",
   "metadata": {},
   "source": [
    "#### Implementation Of Masks 1 - Return to another color when there is a pixel collusion"
   ]
  },
  {
   "cell_type": "code",
   "execution_count": 1,
   "metadata": {},
   "outputs": [
    {
     "name": "stdout",
     "output_type": "stream",
     "text": [
      "pygame 2.1.2 (SDL 2.0.18, Python 3.10.6)\n",
      "Hello from the pygame community. https://www.pygame.org/contribute.html\n"
     ]
    },
    {
     "ename": "error",
     "evalue": "display Surface quit",
     "output_type": "error",
     "traceback": [
      "\u001b[1;31m---------------------------------------------------------------------------\u001b[0m",
      "\u001b[1;31merror\u001b[0m                                     Traceback (most recent call last)",
      "\u001b[1;32mc:\\Users\\Bahattin Yüksel\\APC_Clear_Code\\8-masks.ipynb Hücre 10\u001b[0m in \u001b[0;36m<cell line: 42>\u001b[1;34m()\u001b[0m\n\u001b[0;32m     <a href='vscode-notebook-cell:/c%3A/Users/Bahattin%20Y%C3%BCksel/APC_Clear_Code/8-masks.ipynb#X12sZmlsZQ%3D%3D?line=52'>53</a>\u001b[0m     \u001b[39mif\u001b[39;00m pygame\u001b[39m.\u001b[39msprite\u001b[39m.\u001b[39mspritecollide(player\u001b[39m.\u001b[39msprite , alpha , \u001b[39mFalse\u001b[39;00m , pygame\u001b[39m.\u001b[39msprite\u001b[39m.\u001b[39mcollide_mask): \n\u001b[0;32m     <a href='vscode-notebook-cell:/c%3A/Users/Bahattin%20Y%C3%BCksel/APC_Clear_Code/8-masks.ipynb#X12sZmlsZQ%3D%3D?line=53'>54</a>\u001b[0m         player\u001b[39m.\u001b[39msprite\u001b[39m.\u001b[39mchangeColor() \n\u001b[1;32m---> <a href='vscode-notebook-cell:/c%3A/Users/Bahattin%20Y%C3%BCksel/APC_Clear_Code/8-masks.ipynb#X12sZmlsZQ%3D%3D?line=55'>56</a>\u001b[0m screen\u001b[39m.\u001b[39;49mfill((\u001b[39m255\u001b[39;49m , \u001b[39m255\u001b[39;49m , \u001b[39m204\u001b[39;49m))\n\u001b[0;32m     <a href='vscode-notebook-cell:/c%3A/Users/Bahattin%20Y%C3%BCksel/APC_Clear_Code/8-masks.ipynb#X12sZmlsZQ%3D%3D?line=56'>57</a>\u001b[0m player\u001b[39m.\u001b[39mdraw(screen) \n\u001b[0;32m     <a href='vscode-notebook-cell:/c%3A/Users/Bahattin%20Y%C3%BCksel/APC_Clear_Code/8-masks.ipynb#X12sZmlsZQ%3D%3D?line=57'>58</a>\u001b[0m alpha\u001b[39m.\u001b[39mdraw(screen) \n",
      "\u001b[1;31merror\u001b[0m: display Surface quit"
     ]
    },
    {
     "ename": "",
     "evalue": "",
     "output_type": "error",
     "traceback": [
      "Geçerli hücrede veya önceki bir hücrede kod yürütülürken Çekirdek kilitlendi. Hatanın olası nedenini belirlemek için lütfen hücrelerdeki kodu gözden geçirin. Daha fazla bilgi için <a href='https://aka.ms/vscodeJupyterKernelCrash'>buraya</a> tıklayın. Daha fazla ayrıntı için Jupyter <a href='command:jupyter.viewOutput'>günlüğünü</a> görüntüleyin."
     ]
    }
   ],
   "source": [
    "import pygame  \n",
    "import random \n",
    "\n",
    "\n",
    "WIDTH , HEIGHT = 800 , 800\n",
    "pygame.init() \n",
    "screen = pygame.display.set_mode((WIDTH , HEIGHT))  \n",
    "clock = pygame.time.Clock()\n",
    "\n",
    "class CursorBox(pygame.sprite.Sprite): \n",
    "    def __init__(self, color , size = 50) -> None:\n",
    "        super().__init__() \n",
    "        self.color = color \n",
    "        self.size = size \n",
    "\n",
    "        self.image = pygame.Surface([self.size , self.size]) \n",
    "        self.rect = self.image.get_rect(center = (300,300))  \n",
    "        self.image.fill(self.color) \n",
    "        self.mask = pygame.mask.from_surface(self.image) \n",
    "\n",
    "    def update(self): \n",
    "        if pygame.mouse.get_pos(): \n",
    "            self.rect.center = pygame.mouse.get_pos() \n",
    "            self.image.fill(self.color)  \n",
    "\n",
    "    def changeColor(self): \n",
    "        self.color = (random.randint(40,200),random.randint(40,200),random.randint(40,200))\n",
    "\n",
    "class StaticAlpha(pygame.sprite.Sprite): \n",
    "\n",
    "    def __init__(self) -> None:\n",
    "        super().__init__() \n",
    "        self.image = pygame.image.load(\"img/alpha.png\").convert_alpha()  \n",
    "        self.w , self.h = self.image.get_width() , self.image.get_height()\n",
    "        self.rect = self.image.get_rect(center = ((WIDTH)//2 , (HEIGHT)//2))  \n",
    "\n",
    "\n",
    "player = pygame.sprite.GroupSingle(CursorBox((255,0,0))) \n",
    "alpha = pygame.sprite.GroupSingle(StaticAlpha()) \n",
    "\n",
    "running = True \n",
    "while running : \n",
    "    for e in pygame.event.get(): \n",
    "        if e.type == pygame.QUIT: \n",
    "            exit() \n",
    "            pygame.quit() \n",
    "\n",
    "\n",
    "    if pygame.sprite.spritecollide(player.sprite , alpha , False): # this is for optimization \n",
    "        # Because calculating every pixel every times slows down your game very much \n",
    "        # Also worth mentioning that the sprite.spritecollide() method checks for rectangle collusion by default unless you dont change the \n",
    "        # ... third parameter as pygame.sprite.collide_mask \n",
    "        if pygame.sprite.spritecollide(player.sprite , alpha , False , pygame.sprite.collide_mask): \n",
    "            player.sprite.changeColor() \n",
    "\n",
    "    screen.fill((255 , 255 , 204))\n",
    "    player.draw(screen) \n",
    "    alpha.draw(screen) \n",
    "    player.update() \n",
    "    pygame.display.update()  \n",
    "    clock.tick(60) "
   ]
  },
  {
   "cell_type": "markdown",
   "metadata": {},
   "source": [
    "#### Implementation of Masks 2 - Creating masks without the sprite class "
   ]
  },
  {
   "cell_type": "markdown",
   "metadata": {},
   "source": [
    "> Note : Overlap function needs offsets . What an offset represents is given in the image down bellow : \n",
    "\n",
    "<img src=\"img/offsets_for_masks.jpg\" width=\"600px\">  \n",
    "\n",
    "> O and P are the masks that overlaps with eachother , the length of the x and y lines represents the magnitude of offsets  "
   ]
  },
  {
   "cell_type": "code",
   "execution_count": 1,
   "metadata": {},
   "outputs": [
    {
     "name": "stdout",
     "output_type": "stream",
     "text": [
      "pygame 2.1.2 (SDL 2.0.18, Python 3.10.6)\n",
      "Hello from the pygame community. https://www.pygame.org/contribute.html\n"
     ]
    },
    {
     "ename": "error",
     "evalue": "display Surface quit",
     "output_type": "error",
     "traceback": [
      "\u001b[1;31m---------------------------------------------------------------------------\u001b[0m",
      "\u001b[1;31merror\u001b[0m                                     Traceback (most recent call last)",
      "\u001b[1;32mc:\\Users\\Bahattin Yüksel\\APC_Clear_Code\\8-masks.ipynb Hücre 12\u001b[0m in \u001b[0;36m<cell line: 26>\u001b[1;34m()\u001b[0m\n\u001b[0;32m     <a href='vscode-notebook-cell:/c%3A/Users/Bahattin%20Y%C3%BCksel/APC_Clear_Code/8-masks.ipynb#X15sZmlsZQ%3D%3D?line=45'>46</a>\u001b[0m     \u001b[39mif\u001b[39;00m player_mask\u001b[39m.\u001b[39moverlap_area(alpha_mask ,(offset_x , offset_y) ) \u001b[39m>\u001b[39m OVERLAP_TOLERANCE:  \n\u001b[0;32m     <a href='vscode-notebook-cell:/c%3A/Users/Bahattin%20Y%C3%BCksel/APC_Clear_Code/8-masks.ipynb#X15sZmlsZQ%3D%3D?line=46'>47</a>\u001b[0m         rect_color \u001b[39m=\u001b[39m (\u001b[39m0\u001b[39m,\u001b[39m0\u001b[39m,\u001b[39m255\u001b[39m) \n\u001b[1;32m---> <a href='vscode-notebook-cell:/c%3A/Users/Bahattin%20Y%C3%BCksel/APC_Clear_Code/8-masks.ipynb#X15sZmlsZQ%3D%3D?line=51'>52</a>\u001b[0m screen\u001b[39m.\u001b[39;49mfill(WHITE) \n\u001b[0;32m     <a href='vscode-notebook-cell:/c%3A/Users/Bahattin%20Y%C3%BCksel/APC_Clear_Code/8-masks.ipynb#X15sZmlsZQ%3D%3D?line=52'>53</a>\u001b[0m screen\u001b[39m.\u001b[39mblit(alpha , alpha_rect)  \n\u001b[0;32m     <a href='vscode-notebook-cell:/c%3A/Users/Bahattin%20Y%C3%BCksel/APC_Clear_Code/8-masks.ipynb#X15sZmlsZQ%3D%3D?line=53'>54</a>\u001b[0m player_rect\u001b[39m.\u001b[39mcenter \u001b[39m=\u001b[39m pygame\u001b[39m.\u001b[39mmouse\u001b[39m.\u001b[39mget_pos() \n",
      "\u001b[1;31merror\u001b[0m: display Surface quit"
     ]
    },
    {
     "ename": "",
     "evalue": "",
     "output_type": "error",
     "traceback": [
      "Geçerli hücrede veya önceki bir hücrede kod yürütülürken Çekirdek kilitlendi. Hatanın olası nedenini belirlemek için lütfen hücrelerdeki kodu gözden geçirin. Daha fazla bilgi için <a href='https://aka.ms/vscodeJupyterKernelCrash'>buraya</a> tıklayın. Daha fazla ayrıntı için Jupyter <a href='command:jupyter.viewOutput'>günlüğünü</a> görüntüleyin."
     ]
    }
   ],
   "source": [
    "\n",
    "import pygame \n",
    "\n",
    "\n",
    "pygame.init() \n",
    "WIDTH , HEIGHT = 800 , 800  \n",
    "SQUARE_SIZE = 50 \n",
    "\n",
    "RED = (255,0,0) \n",
    "WHITE = (255,255,255)\n",
    "screen = pygame.display.set_mode((WIDTH , HEIGHT))  \n",
    "\n",
    "player_surface = pygame.Surface([SQUARE_SIZE , SQUARE_SIZE]) \n",
    "player_rect = player_surface.get_rect(center = (300,300)) \n",
    "player_surface.fill(RED)   \n",
    "player_mask = pygame.mask.from_surface(player_surface) \n",
    "\n",
    "alpha = pygame.image.load(\"img/alpha.png\").convert_alpha()  \n",
    "alpha_rect = alpha.get_rect(center = (WIDTH//2 , HEIGHT//2)) \n",
    "alpha_mask = pygame.mask.from_surface(alpha)  \n",
    "alpha_pos = alpha_rect.topleft\n",
    " \n",
    "\n",
    "clock = pygame.time.Clock()\n",
    "running = True \n",
    "\n",
    "while running: \n",
    "\n",
    "    rect_color = (255,0,0) \n",
    "    for e in pygame.event.get(): \n",
    "        if e.type == pygame.QUIT:\n",
    "            running = False \n",
    "            exit() \n",
    "            pygame.quit() \n",
    "\n",
    "    \n",
    "    if player_rect.colliderect(alpha_rect): \n",
    "        \n",
    "        offset_x  = alpha_pos[0] - player_rect.left # if alpha_pos = 100,100 , and player.rect.left = 300 then this returns 100-300 = *_200_*\n",
    "        offset_y = alpha_pos[1] - player_rect.top \n",
    "        #if player_mask.overlap(alpha_mask ,(offset_x , offset_y)):  \n",
    "            #rect_color = (0,255,0) \n",
    "            ## Very sensetive overlap mechanic that triggers even 1 pixel is overlapping \n",
    "            ## player_mask.overlap() returns the pixel cordinates that overlaps with the border of the other mask \n",
    "\n",
    "        OVERLAP_TOLERANCE = 200 # Tolarate maximum 200 overlapping pixels . If there is more , trigger the statement\n",
    "        if player_mask.overlap_area(alpha_mask ,(offset_x , offset_y) ) > OVERLAP_TOLERANCE:  \n",
    "            rect_color = (0,0,255)  \n",
    "\n",
    "        # Third type of detecting overlap between masks is `overlap_mask()` method which returns the pixels that overlaps between 2 masks as a mask \n",
    "        # With the help of that you can change the color of which parts are touching each other \n",
    "        \n",
    "\n",
    "\n",
    "\n",
    "            \n",
    "    screen.fill(WHITE) \n",
    "    screen.blit(alpha , alpha_rect)  \n",
    "    player_rect.center = pygame.mouse.get_pos() \n",
    "    player_surface.fill(rect_color)  \n",
    "\n",
    "    screen.blit(player_surface , player_rect) \n",
    "    \n",
    "    pygame.display.update() \n",
    "    clock.tick(60)\n"
   ]
  },
  {
   "cell_type": "markdown",
   "metadata": {},
   "source": [
    "### Implementation 3 - Creating masks to fill a Surface "
   ]
  },
  {
   "cell_type": "markdown",
   "metadata": {},
   "source": [
    "Filling a surface can be done  with the masks by following  these stages : \n",
    "\n",
    "<img src=\"img/filling_a_surface_with_masks.jpg\" width = \"600px\">"
   ]
  },
  {
   "cell_type": "markdown",
   "metadata": {},
   "source": [
    "If you ask why we need these complex stages to filling a surface is , surfaces have large varies of colored pixels , this makes it hard to identify which part of the surface to fill the color. To get away from this problem , we need masks that turns the surface in a simpe way. \n",
    "\n",
    "<img src=\"img/why_we_cant_fill_surfaces_without_masks.jpg\" width=\"600px\">"
   ]
  },
  {
   "cell_type": "code",
   "execution_count": 1,
   "metadata": {},
   "outputs": [
    {
     "name": "stdout",
     "output_type": "stream",
     "text": [
      "pygame 2.1.2 (SDL 2.0.18, Python 3.10.6)\n",
      "Hello from the pygame community. https://www.pygame.org/contribute.html\n"
     ]
    },
    {
     "ename": "error",
     "evalue": "display Surface quit",
     "output_type": "error",
     "traceback": [
      "\u001b[1;31m---------------------------------------------------------------------------\u001b[0m",
      "\u001b[1;31merror\u001b[0m                                     Traceback (most recent call last)",
      "\u001b[1;32mc:\\Users\\Bahattin Yüksel\\APC_Clear_Code\\8-masks.ipynb Hücre 17\u001b[0m in \u001b[0;36m<cell line: 35>\u001b[1;34m()\u001b[0m\n\u001b[0;32m     <a href='vscode-notebook-cell:/c%3A/Users/Bahattin%20Y%C3%BCksel/APC_Clear_Code/8-masks.ipynb#X24sZmlsZQ%3D%3D?line=40'>41</a>\u001b[0m         exit() \n\u001b[0;32m     <a href='vscode-notebook-cell:/c%3A/Users/Bahattin%20Y%C3%BCksel/APC_Clear_Code/8-masks.ipynb#X24sZmlsZQ%3D%3D?line=41'>42</a>\u001b[0m         pygame\u001b[39m.\u001b[39mquit() \n\u001b[1;32m---> <a href='vscode-notebook-cell:/c%3A/Users/Bahattin%20Y%C3%BCksel/APC_Clear_Code/8-masks.ipynb#X24sZmlsZQ%3D%3D?line=42'>43</a>\u001b[0m screen\u001b[39m.\u001b[39;49mfill(PURPLE) \n\u001b[0;32m     <a href='vscode-notebook-cell:/c%3A/Users/Bahattin%20Y%C3%BCksel/APC_Clear_Code/8-masks.ipynb#X24sZmlsZQ%3D%3D?line=43'>44</a>\u001b[0m screen\u001b[39m.\u001b[39mblit(alpha , alpha_rect)   \n\u001b[0;32m     <a href='vscode-notebook-cell:/c%3A/Users/Bahattin%20Y%C3%BCksel/APC_Clear_Code/8-masks.ipynb#X24sZmlsZQ%3D%3D?line=44'>45</a>\u001b[0m screen\u001b[39m.\u001b[39mblit(alpha_new_surf , alpha_rect)\u001b[39m# masking workflow : if the pixel is colored return 1 else return 0 \u001b[39;00m\n",
      "\u001b[1;31merror\u001b[0m: display Surface quit"
     ]
    },
    {
     "ename": "",
     "evalue": "",
     "output_type": "error",
     "traceback": [
      "Geçerli hücrede veya önceki bir hücrede kod yürütülürken Çekirdek kilitlendi. Hatanın olası nedenini belirlemek için lütfen hücrelerdeki kodu gözden geçirin. Daha fazla bilgi için <a href='https://aka.ms/vscodeJupyterKernelCrash'>buraya</a> tıklayın. Daha fazla ayrıntı için Jupyter <a href='command:jupyter.viewOutput'>günlüğünü</a> görüntüleyin."
     ]
    }
   ],
   "source": [
    "import pygame \n",
    "\n",
    "\n",
    "pygame.init() \n",
    "WIDTH , HEIGHT = 800 , 800  \n",
    "SQUARE_SIZE = 50 \n",
    "\n",
    "RED = (255,0,0) \n",
    "WHITE = (255,255,255) \n",
    "BLACK = (0,0,0) \n",
    "PURPLE = (204 , 30 , 102)\n",
    "screen = pygame.display.set_mode((WIDTH , HEIGHT))  \n",
    "\n",
    "\n",
    "alpha = pygame.image.load(\"img/alpha.png\").convert_alpha()  \n",
    "alpha_rect = alpha.get_rect(center = (WIDTH//2 , HEIGHT//2)) \n",
    "alpha_mask = pygame.mask.from_surface(alpha)  \n",
    "alpha_pos = alpha_rect.topleft \n",
    "\n",
    "# Creating new surface : \n",
    "alpha_new_surf = alpha_mask.to_surface() \n",
    "alpha_new_surf.set_colorkey(BLACK) # makes the Black pixels of the surface unvisible (but they still exist) \n",
    "\n",
    "surf_w , surf_h = alpha_new_surf.get_size() \n",
    "for x in range(surf_w): \n",
    "    for y in range(surf_h): \n",
    "        if alpha_new_surf.get_at((x,y))[0] != 0 :  #alpha_new_surf.get_at((x,y)) returns (r,g,b) \n",
    "            alpha_new_surf.set_at((x,y) , (30,102,204)) \n",
    "\n",
    " \n",
    "\n",
    "clock = pygame.time.Clock()\n",
    "running = True \n",
    "\n",
    "while running: \n",
    "\n",
    "    rect_color = (255,0,0) \n",
    "    for e in pygame.event.get(): \n",
    "        if e.type == pygame.QUIT:\n",
    "            running = False \n",
    "            exit() \n",
    "            pygame.quit() \n",
    "    screen.fill(PURPLE) \n",
    "    screen.blit(alpha , alpha_rect)   \n",
    "    screen.blit(alpha_new_surf , alpha_rect)# masking workflow : if the pixel is colored return 1 else return 0 \n",
    "                                            #  masking to surface workflow : if the value is 1 return WHITE elif the value is 0 return BLACK \n",
    "    \n",
    "    pygame.display.update() \n",
    "    clock.tick(60)\n"
   ]
  },
  {
   "cell_type": "markdown",
   "metadata": {},
   "source": [
    "### Implementation 4 - Creating Outlines by Using Masks"
   ]
  },
  {
   "cell_type": "markdown",
   "metadata": {},
   "source": [
    "There are two ways to make outlines , first way is the easiest one but it is inaccurate . The other way is more complex but accurate .  \n",
    "\n",
    "<img src=\"img/creating_an_outline.jpg\" width=\"600px\">"
   ]
  },
  {
   "cell_type": "markdown",
   "metadata": {},
   "source": [
    "> Easiest one is the `mask.outline()` method which can detect the outlines in the out of the surface . But it cant detect the outlines thats inside of the surface (like alpha icon has a hole at the center .  This method cant outline the hole part)"
   ]
  },
  {
   "cell_type": "code",
   "execution_count": 1,
   "metadata": {},
   "outputs": [
    {
     "name": "stdout",
     "output_type": "stream",
     "text": [
      "pygame 2.1.2 (SDL 2.0.18, Python 3.10.6)\n",
      "Hello from the pygame community. https://www.pygame.org/contribute.html\n"
     ]
    },
    {
     "ename": "error",
     "evalue": "display Surface quit",
     "output_type": "error",
     "traceback": [
      "\u001b[1;31m---------------------------------------------------------------------------\u001b[0m",
      "\u001b[1;31merror\u001b[0m                                     Traceback (most recent call last)",
      "\u001b[1;32mc:\\Users\\Bahattin Yüksel\\APC_Clear_Code\\8-masks.ipynb Hücre 21\u001b[0m in \u001b[0;36m<cell line: 26>\u001b[1;34m()\u001b[0m\n\u001b[0;32m     <a href='vscode-notebook-cell:/c%3A/Users/Bahattin%20Y%C3%BCksel/APC_Clear_Code/8-masks.ipynb#X32sZmlsZQ%3D%3D?line=31'>32</a>\u001b[0m         exit() \n\u001b[0;32m     <a href='vscode-notebook-cell:/c%3A/Users/Bahattin%20Y%C3%BCksel/APC_Clear_Code/8-masks.ipynb#X32sZmlsZQ%3D%3D?line=32'>33</a>\u001b[0m         pygame\u001b[39m.\u001b[39mquit() \n\u001b[1;32m---> <a href='vscode-notebook-cell:/c%3A/Users/Bahattin%20Y%C3%BCksel/APC_Clear_Code/8-masks.ipynb#X32sZmlsZQ%3D%3D?line=33'>34</a>\u001b[0m screen\u001b[39m.\u001b[39;49mfill(WHITE)  \n\u001b[0;32m     <a href='vscode-notebook-cell:/c%3A/Users/Bahattin%20Y%C3%BCksel/APC_Clear_Code/8-masks.ipynb#X32sZmlsZQ%3D%3D?line=34'>35</a>\u001b[0m screen\u001b[39m.\u001b[39mblit(alpha , alpha_rect)  \n\u001b[0;32m     <a href='vscode-notebook-cell:/c%3A/Users/Bahattin%20Y%C3%BCksel/APC_Clear_Code/8-masks.ipynb#X32sZmlsZQ%3D%3D?line=36'>37</a>\u001b[0m \u001b[39mfor\u001b[39;00m pixel_cord \u001b[39min\u001b[39;00m alpha_mask\u001b[39m.\u001b[39moutline(): \n",
      "\u001b[1;31merror\u001b[0m: display Surface quit"
     ]
    },
    {
     "ename": "",
     "evalue": "",
     "output_type": "error",
     "traceback": [
      "Geçerli hücrede veya önceki bir hücrede kod yürütülürken Çekirdek kilitlendi. Hatanın olası nedenini belirlemek için lütfen hücrelerdeki kodu gözden geçirin. Daha fazla bilgi için <a href='https://aka.ms/vscodeJupyterKernelCrash'>buraya</a> tıklayın. Daha fazla ayrıntı için Jupyter <a href='command:jupyter.viewOutput'>günlüğünü</a> görüntüleyin."
     ]
    }
   ],
   "source": [
    "import pygame \n",
    "\n",
    "\n",
    "pygame.init() \n",
    "WIDTH , HEIGHT = 800 , 800  \n",
    "SQUARE_SIZE = 50 \n",
    "\n",
    "RED = (255,0,0) \n",
    "WHITE = (255,255,255) \n",
    "BLACK = (0,0,0) \n",
    "PURPLE = (204 , 30 , 102) \n",
    "LIGHT_BLUE = (30 , 102 , 204)\n",
    "screen = pygame.display.set_mode((WIDTH , HEIGHT))  \n",
    "\n",
    "\n",
    "alpha = pygame.image.load(\"img/alpha.png\").convert_alpha()  \n",
    "alpha_rect = alpha.get_rect(center = (WIDTH//2 , HEIGHT//2)) \n",
    "alpha_mask = pygame.mask.from_surface(alpha)   \n",
    "alpha_pos = alpha_rect.topleft\n",
    "\n",
    "\n",
    "\n",
    "clock = pygame.time.Clock()\n",
    "running = True \n",
    "\n",
    "while running: \n",
    "\n",
    "    rect_color = (255,0,0) \n",
    "    for e in pygame.event.get(): \n",
    "        if e.type == pygame.QUIT:\n",
    "            running = False \n",
    "            exit() \n",
    "            pygame.quit() \n",
    "    screen.fill(WHITE)  \n",
    "    screen.blit(alpha , alpha_rect)  \n",
    "\n",
    "    for pixel_cord in alpha_mask.outline(): \n",
    "        pix_x , pix_y = pixel_cord  \n",
    "        off_x , off_y = alpha_pos\n",
    "        pygame.draw.circle(screen , LIGHT_BLUE , (pix_x + off_x , pix_y + off_y) , 5) \n",
    "\n",
    "      \n",
    "    \n",
    "    pygame.display.update() \n",
    "    clock.tick(60)"
   ]
  },
  {
   "cell_type": "markdown",
   "metadata": {},
   "source": [
    "The more harder , more complex way to outline is blitting the surface with different offsets some times . "
   ]
  },
  {
   "cell_type": "code",
   "execution_count": 1,
   "metadata": {},
   "outputs": [
    {
     "name": "stdout",
     "output_type": "stream",
     "text": [
      "pygame 2.1.2 (SDL 2.0.18, Python 3.10.6)\n",
      "Hello from the pygame community. https://www.pygame.org/contribute.html\n"
     ]
    },
    {
     "ename": "error",
     "evalue": "display Surface quit",
     "output_type": "error",
     "traceback": [
      "\u001b[1;31m---------------------------------------------------------------------------\u001b[0m",
      "\u001b[1;31merror\u001b[0m                                     Traceback (most recent call last)",
      "\u001b[1;32mc:\\Users\\Bahattin Yüksel\\APC_Clear_Code\\8-masks.ipynb Hücre 23\u001b[0m in \u001b[0;36m<cell line: 35>\u001b[1;34m()\u001b[0m\n\u001b[0;32m     <a href='vscode-notebook-cell:/c%3A/Users/Bahattin%20Y%C3%BCksel/APC_Clear_Code/8-masks.ipynb#X35sZmlsZQ%3D%3D?line=40'>41</a>\u001b[0m         exit() \n\u001b[0;32m     <a href='vscode-notebook-cell:/c%3A/Users/Bahattin%20Y%C3%BCksel/APC_Clear_Code/8-masks.ipynb#X35sZmlsZQ%3D%3D?line=41'>42</a>\u001b[0m         pygame\u001b[39m.\u001b[39mquit() \n\u001b[1;32m---> <a href='vscode-notebook-cell:/c%3A/Users/Bahattin%20Y%C3%BCksel/APC_Clear_Code/8-masks.ipynb#X35sZmlsZQ%3D%3D?line=42'>43</a>\u001b[0m screen\u001b[39m.\u001b[39;49mfill(PURPLE)  \n\u001b[0;32m     <a href='vscode-notebook-cell:/c%3A/Users/Bahattin%20Y%C3%BCksel/APC_Clear_Code/8-masks.ipynb#X35sZmlsZQ%3D%3D?line=45'>46</a>\u001b[0m offset_outline \u001b[39m=\u001b[39m \u001b[39m10\u001b[39m\n\u001b[0;32m     <a href='vscode-notebook-cell:/c%3A/Users/Bahattin%20Y%C3%BCksel/APC_Clear_Code/8-masks.ipynb#X35sZmlsZQ%3D%3D?line=46'>47</a>\u001b[0m \u001b[39mfor\u001b[39;00m _ \u001b[39min\u001b[39;00m \u001b[39mrange\u001b[39m(\u001b[39m2\u001b[39m): \n",
      "\u001b[1;31merror\u001b[0m: display Surface quit"
     ]
    },
    {
     "ename": "",
     "evalue": "",
     "output_type": "error",
     "traceback": [
      "Geçerli hücrede veya önceki bir hücrede kod yürütülürken Çekirdek kilitlendi. Hatanın olası nedenini belirlemek için lütfen hücrelerdeki kodu gözden geçirin. Daha fazla bilgi için <a href='https://aka.ms/vscodeJupyterKernelCrash'>buraya</a> tıklayın. Daha fazla ayrıntı için Jupyter <a href='command:jupyter.viewOutput'>günlüğünü</a> görüntüleyin."
     ]
    }
   ],
   "source": [
    "import pygame \n",
    "\n",
    "\n",
    "pygame.init() \n",
    "WIDTH , HEIGHT = 800 , 800  \n",
    "SQUARE_SIZE = 50 \n",
    "\n",
    "RED = (255,0,0) \n",
    "WHITE = (255,255,255) \n",
    "BLACK = (0,0,0) \n",
    "PURPLE = (204 , 30 , 102)\n",
    "screen = pygame.display.set_mode((WIDTH , HEIGHT))  \n",
    "\n",
    "\n",
    "alpha = pygame.image.load(\"img/alpha.png\").convert_alpha()  \n",
    "alpha_rect = alpha.get_rect(center = (WIDTH//2 , HEIGHT//2)) \n",
    "alpha_mask = pygame.mask.from_surface(alpha)  \n",
    "alpha_pos = alpha_rect.topleft \n",
    "\n",
    "# Creating new surface : \n",
    "alpha_new_surf = alpha_mask.to_surface() \n",
    "alpha_new_surf.set_colorkey(BLACK) # makes the Black pixels of the surface unvisible (but they still exist) \n",
    "\n",
    "surf_w , surf_h = alpha_new_surf.get_size() \n",
    "for x in range(surf_w): \n",
    "    for y in range(surf_h): \n",
    "        if alpha_new_surf.get_at((x,y))[0] != 0 :  #alpha_new_surf.get_at((x,y)) returns (r,g,b) \n",
    "            alpha_new_surf.set_at((x,y) , (30,102,204)) \n",
    "\n",
    " \n",
    "\n",
    "clock = pygame.time.Clock()\n",
    "running = True \n",
    "\n",
    "while running: \n",
    "\n",
    "    rect_color = (255,0,0) \n",
    "    for e in pygame.event.get(): \n",
    "        if e.type == pygame.QUIT:\n",
    "            running = False \n",
    "            exit() \n",
    "            pygame.quit() \n",
    "    screen.fill(PURPLE)  \n",
    "\n",
    "\n",
    "    offset_outline = 10\n",
    "    for _ in range(2): \n",
    "        for _ in range(4):  \n",
    "            x , y = alpha_pos\n",
    "            screen.blit(alpha_new_surf , (x + offset_outline , y)) \n",
    "            screen.blit(alpha_new_surf , (x  , y+ offset_outline))  \n",
    "            screen.blit(alpha_new_surf , (x + offset_outline , y+ offset_outline))  \n",
    "            screen.blit(alpha_new_surf , (x - offset_outline , y+ offset_outline))  \n",
    "\n",
    "        offset_outline *= -1\n",
    "    screen.blit(alpha , alpha_rect)   \n",
    "     \n",
    "    \n",
    "    pygame.display.update() \n",
    "    clock.tick(60)"
   ]
  },
  {
   "cell_type": "markdown",
   "metadata": {},
   "source": [
    "### Implementation 4 : Coloring overlapping Areas with Masks"
   ]
  },
  {
   "cell_type": "code",
   "execution_count": 1,
   "metadata": {},
   "outputs": [
    {
     "name": "stdout",
     "output_type": "stream",
     "text": [
      "pygame 2.1.2 (SDL 2.0.18, Python 3.10.6)\n",
      "Hello from the pygame community. https://www.pygame.org/contribute.html\n"
     ]
    },
    {
     "ename": "error",
     "evalue": "display Surface quit",
     "output_type": "error",
     "traceback": [
      "\u001b[1;31m---------------------------------------------------------------------------\u001b[0m",
      "\u001b[1;31merror\u001b[0m                                     Traceback (most recent call last)",
      "\u001b[1;32mc:\\Users\\Bahattin Yüksel\\APC_Clear_Code\\8-masks.ipynb Hücre 25\u001b[0m in \u001b[0;36m<cell line: 32>\u001b[1;34m()\u001b[0m\n\u001b[0;32m     <a href='vscode-notebook-cell:/c%3A/Users/Bahattin%20Y%C3%BCksel/APC_Clear_Code/8-masks.ipynb#X41sZmlsZQ%3D%3D?line=37'>38</a>\u001b[0m         exit() \n\u001b[0;32m     <a href='vscode-notebook-cell:/c%3A/Users/Bahattin%20Y%C3%BCksel/APC_Clear_Code/8-masks.ipynb#X41sZmlsZQ%3D%3D?line=38'>39</a>\u001b[0m         pygame\u001b[39m.\u001b[39mquit() \n\u001b[1;32m---> <a href='vscode-notebook-cell:/c%3A/Users/Bahattin%20Y%C3%BCksel/APC_Clear_Code/8-masks.ipynb#X41sZmlsZQ%3D%3D?line=39'>40</a>\u001b[0m screen\u001b[39m.\u001b[39;49mfill(WHITE) \n\u001b[0;32m     <a href='vscode-notebook-cell:/c%3A/Users/Bahattin%20Y%C3%BCksel/APC_Clear_Code/8-masks.ipynb#X41sZmlsZQ%3D%3D?line=40'>41</a>\u001b[0m screen\u001b[39m.\u001b[39mblit(alpha , alpha_rect)  \n\u001b[0;32m     <a href='vscode-notebook-cell:/c%3A/Users/Bahattin%20Y%C3%BCksel/APC_Clear_Code/8-masks.ipynb#X41sZmlsZQ%3D%3D?line=42'>43</a>\u001b[0m \u001b[39mif\u001b[39;00m pygame\u001b[39m.\u001b[39mmouse\u001b[39m.\u001b[39mget_pos():\n",
      "\u001b[1;31merror\u001b[0m: display Surface quit"
     ]
    },
    {
     "ename": "",
     "evalue": "",
     "output_type": "error",
     "traceback": [
      "Geçerli hücrede veya önceki bir hücrede kod yürütülürken Çekirdek kilitlendi. Hatanın olası nedenini belirlemek için lütfen hücrelerdeki kodu gözden geçirin. Daha fazla bilgi için <a href='https://aka.ms/vscodeJupyterKernelCrash'>buraya</a> tıklayın. Daha fazla ayrıntı için Jupyter <a href='command:jupyter.viewOutput'>günlüğünü</a> görüntüleyin."
     ]
    }
   ],
   "source": [
    "import pygame \n",
    "\n",
    "\n",
    "pygame.init() \n",
    "WIDTH , HEIGHT = 800 , 800  \n",
    "SQUARE_SIZE = 50 \n",
    "\n",
    "RED = (255,0,0) \n",
    "WHITE = (255,255,255) \n",
    "BLACK = (0,0,0) \n",
    "PURPLE = (204 , 30 , 102) \n",
    "screen = pygame.display.set_mode((WIDTH , HEIGHT))  \n",
    "\n",
    "\n",
    "alpha = pygame.image.load(\"img/alpha.png\").convert_alpha()  \n",
    "alpha_rect = alpha.get_rect(center = (WIDTH//2 , HEIGHT//2)) \n",
    "alpha_mask = pygame.mask.from_surface(alpha)  \n",
    "alpha_pos = alpha_rect.topleft \n",
    " \n",
    "player = pygame.image.load(\"img/ship.png\").convert_alpha()\n",
    "player_rect = player.get_rect(center = (100,100)) \n",
    "player_mask = pygame.mask.from_surface(player) \n",
    "player_pos = player_rect.topleft\n",
    "\n",
    "\n",
    "\n",
    " \n",
    "\n",
    "clock = pygame.time.Clock()\n",
    "running = True \n",
    "\n",
    "while running: \n",
    "\n",
    "    rect_color = (255,0,0) \n",
    "    for e in pygame.event.get(): \n",
    "        if e.type == pygame.QUIT:\n",
    "            running = False \n",
    "            exit() \n",
    "            pygame.quit() \n",
    "    screen.fill(WHITE) \n",
    "    screen.blit(alpha , alpha_rect)  \n",
    "    \n",
    "    if pygame.mouse.get_pos():\n",
    "        player_rect.center = pygame.mouse.get_pos()  \n",
    "        screen.blit(player , player_rect)\n",
    "\n",
    "    offset_x = alpha_pos[0] - player_rect.left \n",
    "    offset_y = alpha_pos[1] - player_rect.top \n",
    "    if player_mask.overlap(alpha_mask , (offset_x , offset_y)): \n",
    "        new_mask = player_mask.overlap_mask(alpha_mask , (offset_x , offset_y)) \n",
    "        new_surf = new_mask.to_surface() \n",
    "        new_surf.set_colorkey(BLACK)  \n",
    "\n",
    "        surf_w , surf_h = new_surf.get_size() \n",
    "        for x in range(surf_w): \n",
    "            for y in range(surf_h): \n",
    "                if new_surf.get_at((x,y))[0] != 0 : \n",
    "                    new_surf.set_at((x,y) , 'red')   \n",
    "        screen.blit(new_surf , player_rect) \n",
    "\n",
    "    \n",
    "    \n",
    "    pygame.display.update() \n",
    "    clock.tick(60)"
   ]
  }
 ],
 "metadata": {
  "kernelspec": {
   "display_name": "Python 3.10.6 64-bit (system)",
   "language": "python",
   "name": "python3"
  },
  "language_info": {
   "codemirror_mode": {
    "name": "ipython",
    "version": 3
   },
   "file_extension": ".py",
   "mimetype": "text/x-python",
   "name": "python",
   "nbconvert_exporter": "python",
   "pygments_lexer": "ipython3",
   "version": "3.10.6"
  },
  "orig_nbformat": 4,
  "vscode": {
   "interpreter": {
    "hash": "1e3e800d60de73aef17d6ccee2edb76295f61fcadb681caa85aa19fd4719ff22"
   }
  }
 },
 "nbformat": 4,
 "nbformat_minor": 2
}
