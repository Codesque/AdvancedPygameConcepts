{
 "cells": [
  {
   "cell_type": "markdown",
   "metadata": {},
   "source": [
    "# Sprites in Pygame "
   ]
  },
  {
   "cell_type": "markdown",
   "metadata": {},
   "source": [
    "<img src=\"img/sprite_example.jpg/\" width = \"500px\">"
   ]
  },
  {
   "cell_type": "markdown",
   "metadata": {},
   "source": [
    "In video games sprite is basicly means that you have 2-dimensional piece of art . why we call the \"sprites\" , not pictures is historical. In early video games , game characters visualised with a specific process and the pictures that drawwed in a specific way called sprites on that time."
   ]
  },
  {
   "cell_type": "markdown",
   "metadata": {},
   "source": [
    "Sprites in pygame is : A class that combines a surface , a rectangle and many additional features like animations or sounds.  "
   ]
  },
  {
   "cell_type": "markdown",
   "metadata": {},
   "source": [
    "## Drawing in Pygame "
   ]
  },
  {
   "cell_type": "markdown",
   "metadata": {},
   "source": [
    "Display surface object is the only thing that displayed \n",
    "\n",
    "Additional surfaces can be added , but they need to be attached to the display surface\n",
    "\n",
    "Surfaces can not move \n",
    "\n",
    "You need to put a rectangle around them first \n",
    "\n",
    "And that 'rect' can be moved "
   ]
  },
  {
   "cell_type": "markdown",
   "metadata": {},
   "source": [
    "#### Advantages of the Sprite Class \n"
   ]
  },
  {
   "cell_type": "markdown",
   "metadata": {},
   "source": [
    "1. Combines the surface and rectangle \n",
    "2. Can contain animations , sounds at the same time \n",
    "3. You can target multiple sprites via groups and draw them collectively "
   ]
  },
  {
   "cell_type": "markdown",
   "metadata": {},
   "source": [
    "# Implementation of Sprites by Creating A Shooter Game "
   ]
  },
  {
   "cell_type": "code",
   "execution_count": 1,
   "metadata": {},
   "outputs": [
    {
     "name": "stdout",
     "output_type": "stream",
     "text": [
      "pygame 2.1.2 (SDL 2.0.18, Python 3.10.6)\n",
      "Hello from the pygame community. https://www.pygame.org/contribute.html\n"
     ]
    }
   ],
   "source": [
    "import pygame \n",
    "SCREEN_WIDTH = 600 \n",
    "SCREEN_HEIGHT = 600 "
   ]
  },
  {
   "cell_type": "code",
   "execution_count": 4,
   "metadata": {},
   "outputs": [],
   "source": [
    "\n",
    "import pygame \n",
    "from pygame import mixer \n",
    "class CrossHair(pygame.sprite.Sprite): \n",
    "\n",
    "    def __init__(self , target_group):  \n",
    "\n",
    "        super().__init__()\n",
    "        self.image = pygame.image.load(\"img/shoot/PNG/HUD/crosshair_red_small.png\") \n",
    "        self.rect = self.image.get_rect() \n",
    "        self.gunshot = mixer.Sound(\"img/shoot/sounds/22 Pistol.wav\")  \n",
    "        self.target_group = target_group\n",
    "\n",
    "    def shoot(self):  \n",
    "        self.gunshot.play()   \n",
    "        pygame.sprite.spritecollide(self , self.target_group , True) \n",
    "\n",
    "    def update(self): \n",
    "        self.rect.center = pygame.mouse.get_pos()"
   ]
  },
  {
   "cell_type": "code",
   "execution_count": 5,
   "metadata": {},
   "outputs": [],
   "source": [
    "import random\n",
    "\n",
    "class Target(pygame.sprite.Sprite): \n",
    "    def __init__(self, pos_x , pos_y) -> None:\n",
    "        super().__init__()  \n",
    "        self.image = pygame.image.load(random.choice([\"img/shoot/PNG/Objects/duck_brown.png\" ,\"img/shoot/PNG/Objects/duck_yellow.png\" ])) \n",
    "        self.rect = self.image.get_rect()  \n",
    "        self.rect.center = [pos_x , pos_y]"
   ]
  },
  {
   "cell_type": "code",
   "execution_count": 6,
   "metadata": {},
   "outputs": [
    {
     "ename": "error",
     "evalue": "video system not initialized",
     "output_type": "error",
     "traceback": [
      "\u001b[1;31m---------------------------------------------------------------------------\u001b[0m",
      "\u001b[1;31merror\u001b[0m                                     Traceback (most recent call last)",
      "\u001b[1;32mc:\\Users\\Bahattin Yüksel\\APC_Clear_Code\\2-sprites.ipynb Hücre 13\u001b[0m in \u001b[0;36m<cell line: 27>\u001b[1;34m()\u001b[0m\n\u001b[0;32m     <a href='vscode-notebook-cell:/c%3A/Users/Bahattin%20Y%C3%BCksel/APC_Clear_Code/2-sprites.ipynb#X16sZmlsZQ%3D%3D?line=31'>32</a>\u001b[0m     \u001b[39mif\u001b[39;00m e\u001b[39m.\u001b[39mtype \u001b[39m==\u001b[39m pygame\u001b[39m.\u001b[39mMOUSEBUTTONDOWN: \n\u001b[0;32m     <a href='vscode-notebook-cell:/c%3A/Users/Bahattin%20Y%C3%BCksel/APC_Clear_Code/2-sprites.ipynb#X16sZmlsZQ%3D%3D?line=32'>33</a>\u001b[0m         crosshair\u001b[39m.\u001b[39mshoot() \n\u001b[1;32m---> <a href='vscode-notebook-cell:/c%3A/Users/Bahattin%20Y%C3%BCksel/APC_Clear_Code/2-sprites.ipynb#X16sZmlsZQ%3D%3D?line=34'>35</a>\u001b[0m pygame\u001b[39m.\u001b[39;49mdisplay\u001b[39m.\u001b[39;49mflip() \n\u001b[0;32m     <a href='vscode-notebook-cell:/c%3A/Users/Bahattin%20Y%C3%BCksel/APC_Clear_Code/2-sprites.ipynb#X16sZmlsZQ%3D%3D?line=35'>36</a>\u001b[0m screen\u001b[39m.\u001b[39mblit(bg , (\u001b[39m0\u001b[39m,\u001b[39m0\u001b[39m))  \n\u001b[0;32m     <a href='vscode-notebook-cell:/c%3A/Users/Bahattin%20Y%C3%BCksel/APC_Clear_Code/2-sprites.ipynb#X16sZmlsZQ%3D%3D?line=36'>37</a>\u001b[0m target_group\u001b[39m.\u001b[39mdraw(screen) \n",
      "\u001b[1;31merror\u001b[0m: video system not initialized"
     ]
    }
   ],
   "source": [
    "pygame.init() \n",
    "clock = pygame.time.Clock() \n",
    "screen =pygame.display.set_mode((SCREEN_WIDTH , SCREEN_HEIGHT)) \n",
    "bg = pygame.image.load(\"img/shoot/PNG/Stall/bg_blue.png\").convert() \n",
    "bg = pygame.transform.scale(bg , (SCREEN_WIDTH , SCREEN_HEIGHT)) \n",
    "screen.blit(bg , (0,0))  \n",
    "\n",
    "\n",
    "# Targets : \n",
    "\n",
    "target_group = pygame.sprite.Group()\n",
    "\n",
    "N = 50 \n",
    "for target in range(N):  \n",
    "    new_target = Target(random.randint(0,SCREEN_WIDTH) , random.randint(0,SCREEN_HEIGHT)) \n",
    "    target_group.add(new_target) \n",
    "\n",
    "\n",
    "# CrossHair : \n",
    "pygame.mouse.set_visible(False) \n",
    "crossHairGroup = pygame.sprite.Group()  \n",
    "crosshair = CrossHair(target_group)\n",
    "crossHairGroup.add(crosshair)\n",
    "\n",
    "\n",
    "running = True \n",
    "while running: \n",
    "    for e in pygame.event.get(): \n",
    "        if e.type == pygame.QUIT:\n",
    "            pygame.quit() \n",
    "            running = False \n",
    "        if e.type == pygame.MOUSEBUTTONDOWN: \n",
    "            crosshair.shoot() \n",
    "\n",
    "    pygame.display.flip() \n",
    "    screen.blit(bg , (0,0))  \n",
    "    target_group.draw(screen) \n",
    "    crossHairGroup.draw(screen)\n",
    "    crossHairGroup.update() \n",
    "    clock.tick(60)  "
   ]
  },
  {
   "cell_type": "markdown",
   "metadata": {},
   "source": [
    "# Animation With Sprites "
   ]
  },
  {
   "cell_type": "markdown",
   "metadata": {},
   "source": [
    "All we need to do to animate things is , 10 pictures of the character changing its body slowly . Because when we show the user to this 10 pictures , human eye detects this as a movement.  "
   ]
  },
  {
   "cell_type": "markdown",
   "metadata": {},
   "source": [
    "<img src=\"https://coal.gamemaker.io/sites/5d75794b3c84c70006700381/assets/6050799d57d1af00071f53bc/AnimationPreview.gif\" width = \"600px\">"
   ]
  },
  {
   "cell_type": "markdown",
   "metadata": {},
   "source": []
  }
 ],
 "metadata": {
  "kernelspec": {
   "display_name": "Python 3.10.6 64-bit (system)",
   "language": "python",
   "name": "python3"
  },
  "language_info": {
   "codemirror_mode": {
    "name": "ipython",
    "version": 3
   },
   "file_extension": ".py",
   "mimetype": "text/x-python",
   "name": "python",
   "nbconvert_exporter": "python",
   "pygments_lexer": "ipython3",
   "version": "3.10.6"
  },
  "orig_nbformat": 4,
  "vscode": {
   "interpreter": {
    "hash": "1e3e800d60de73aef17d6ccee2edb76295f61fcadb681caa85aa19fd4719ff22"
   }
  }
 },
 "nbformat": 4,
 "nbformat_minor": 2
}
