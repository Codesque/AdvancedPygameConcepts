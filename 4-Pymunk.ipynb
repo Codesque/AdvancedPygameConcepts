{
 "cells": [
  {
   "cell_type": "markdown",
   "metadata": {},
   "source": [
    "# Simulating Physics In Pygame With Pymunk"
   ]
  },
  {
   "cell_type": "markdown",
   "metadata": {},
   "source": [
    "Pymunk is a library that is used to simulate physics by creating our own. In this kind of space we control the rules that effects the objects.  \n",
    "We simply control this workflow by giving physical objects  two attributes : body and shape  \n",
    "\n",
    "> Pymunk is a independent library which can work without Pygame . The reason that we use pygame is that , we want to visualise how physics works.  \n",
    "\n",
    "> The space has gravity and physics rules gets updated on every iteration which is also works independently compared to pygame and pygame loops. \n",
    "\n",
    "<img src=\"img/how_pymunk_works.jpg\" width = \"600px\">"
   ]
  },
  {
   "cell_type": "markdown",
   "metadata": {},
   "source": [
    "### Bodies in Pymunk\n",
    "\n",
    "<img src=\"img/bodies_in_pymunk.jpg\"  width = \"600px\"> "
   ]
  },
  {
   "cell_type": "markdown",
   "metadata": {},
   "source": [
    "> Static body doesnt require any kind of mass or Inhertia because it just collides with other objects. "
   ]
  },
  {
   "cell_type": "markdown",
   "metadata": {},
   "source": [
    "<img src=\"img/dynamic_body_arguments.jpg\" width = \"600px\">"
   ]
  },
  {
   "cell_type": "markdown",
   "metadata": {},
   "source": [
    "## Implementing the Pymunk Physic Engine "
   ]
  },
  {
   "cell_type": "code",
   "execution_count": 1,
   "metadata": {},
   "outputs": [
    {
     "name": "stdout",
     "output_type": "stream",
     "text": [
      "pygame 2.1.2 (SDL 2.0.18, Python 3.10.6)\n",
      "Hello from the pygame community. https://www.pygame.org/contribute.html\n"
     ]
    },
    {
     "ename": "error",
     "evalue": "display Surface quit",
     "output_type": "error",
     "traceback": [
      "\u001b[1;31m---------------------------------------------------------------------------\u001b[0m",
      "\u001b[1;31merror\u001b[0m                                     Traceback (most recent call last)",
      "\u001b[1;32mc:\\Users\\Bahattin Yüksel\\APC_Clear_Code\\4-Pymunk.ipynb Hücre 7\u001b[0m in \u001b[0;36m<cell line: 83>\u001b[1;34m()\u001b[0m\n\u001b[0;32m     <a href='vscode-notebook-cell:/c%3A/Users/Bahattin%20Y%C3%BCksel/APC_Clear_Code/4-Pymunk.ipynb#X10sZmlsZQ%3D%3D?line=92'>93</a>\u001b[0m             apple \u001b[39m=\u001b[39m Apple(e\u001b[39m.\u001b[39mpos) \n\u001b[0;32m     <a href='vscode-notebook-cell:/c%3A/Users/Bahattin%20Y%C3%BCksel/APC_Clear_Code/4-Pymunk.ipynb#X10sZmlsZQ%3D%3D?line=93'>94</a>\u001b[0m             apples\u001b[39m.\u001b[39madd(apple)  \n\u001b[1;32m---> <a href='vscode-notebook-cell:/c%3A/Users/Bahattin%20Y%C3%BCksel/APC_Clear_Code/4-Pymunk.ipynb#X10sZmlsZQ%3D%3D?line=95'>96</a>\u001b[0m screen\u001b[39m.\u001b[39;49mfill((\u001b[39m217\u001b[39;49m , \u001b[39m217\u001b[39;49m , \u001b[39m217\u001b[39;49m)) \n\u001b[0;32m     <a href='vscode-notebook-cell:/c%3A/Users/Bahattin%20Y%C3%BCksel/APC_Clear_Code/4-Pymunk.ipynb#X10sZmlsZQ%3D%3D?line=96'>97</a>\u001b[0m space\u001b[39m.\u001b[39mstep(\u001b[39m0.02\u001b[39m)  \u001b[39m# 1 / 50 \u001b[39;00m\n\u001b[0;32m     <a href='vscode-notebook-cell:/c%3A/Users/Bahattin%20Y%C3%BCksel/APC_Clear_Code/4-Pymunk.ipynb#X10sZmlsZQ%3D%3D?line=98'>99</a>\u001b[0m balls\u001b[39m.\u001b[39mdraw(screen)  \n",
      "\u001b[1;31merror\u001b[0m: display Surface quit"
     ]
    },
    {
     "ename": "",
     "evalue": "",
     "output_type": "error",
     "traceback": [
      "Geçerli hücrede veya önceki bir hücrede kod yürütülürken Çekirdek kilitlendi. Hatanın olası nedenini belirlemek için lütfen hücrelerdeki kodu gözden geçirin. Daha fazla bilgi için <a href='https://aka.ms/vscodeJupyterKernelCrash'>buraya</a> tıklayın. Daha fazla ayrıntı için Jupyter <a href='command:jupyter.viewOutput'>günlüğünü</a> görüntüleyin."
     ]
    }
   ],
   "source": [
    "import pygame \n",
    "import pymunk  \n",
    "\n",
    "PURPLE = (217 , 30 , 198) \n",
    "WHITE = (255,255,255) \n",
    "DARK_PURPLE = (117 , 10 , 98) \n",
    "LIGHT_PINK = (217 , 217 , 217)\n",
    "\n",
    "class Apple(pygame.sprite.Sprite): \n",
    "    def __init__(self ,mouse_position ,mass = 1 , moment = 100 , body_radius = 40) -> None:\n",
    "        global space \n",
    "        super().__init__()  \n",
    "        self.mass , self.moment = mass , moment \n",
    "        self.apple_body = pymunk.Body(self.mass , self.moment , pymunk.Body.DYNAMIC)  \n",
    "        self.apple_body.position = mouse_position \n",
    "        self.image = pygame.image.load(\"img/apple.png\").convert_alpha() \n",
    "        self.image = pygame.transform.scale(self.image , (65 , 65))\n",
    "        self.shape = pymunk.Circle(self.apple_body , body_radius )   \n",
    "        space.add(self.apple_body , self.shape)\n",
    "        self.pos_x , self.pos_y = mouse_position \n",
    "        self.rect = self.image.get_rect(center = (self.pos_x , self.pos_y)) \n",
    "\n",
    "    def update(self):  \n",
    "        self.pos_x = int(self.shape.body.position.x) \n",
    "        self.pos_y = int(self.shape.body.position.y) \n",
    "\n",
    "        self.rect = self.image.get_rect(center = (self.pos_x , self.pos_y))\n",
    "\n",
    "\n",
    "\n",
    "\n",
    "class StaticBall(pygame.sprite.Sprite): \n",
    "    def __init__(self , given_position , ball_radius = 40) -> None: \n",
    "        global space \n",
    "\n",
    "        super().__init__() \n",
    "        self.ball_body = pymunk.Body(body_type= pymunk.Body.STATIC)  \n",
    "        self.ball_body.position = given_position  \n",
    "        self.ball_raidus = ball_radius   \n",
    "        self.shape = pymunk.Circle(self.ball_body , ball_radius) \n",
    "        self.pos_x , self.pos_y = given_position  \n",
    "        space.add(self.ball_body , self.shape)    \n",
    "\n",
    "        self.image = pygame.Surface((2*self.ball_raidus , 2*self.ball_raidus)) \n",
    "        self.rect = self.image.get_rect(center = (self.pos_x , self.pos_y)) \n",
    "        self.image.fill(LIGHT_PINK) \n",
    "        pygame.draw.circle(self.image , DARK_PURPLE , (self.ball_raidus , self.ball_raidus) ,self.ball_raidus)\n",
    "        \n",
    "\n",
    "    def update(self):  \n",
    "        self.pos_x = int(self.shape.body.position.x ) \n",
    "        self.pos_y = int(self.shape.body.position.y)  \n",
    "        \n",
    "        \n",
    "\n",
    "        \n",
    "\n",
    "\n",
    "\n",
    "        \n",
    "\n",
    "\n",
    "\n",
    "\n",
    "    \n",
    "\n",
    "WIDTH , HEIGHT = 800 , 800 \n",
    "screen = pygame.display.set_mode((WIDTH , HEIGHT))  \n",
    "space = pymunk.Space() \n",
    "space.gravity = (0 , 500)  \n",
    "apples = pygame.sprite.Group()  \n",
    "clock = pygame.time.Clock()\n",
    "\n",
    "\n",
    "\n",
    "balls = pygame.sprite.Group()\n",
    "balls.add(StaticBall((300,400))) \n",
    "balls.add(StaticBall((200 , 600)))\n",
    "\n",
    "\n",
    "\n",
    "running = True \n",
    "while running :  \n",
    "\n",
    "    for e in pygame.event.get(): \n",
    "        if e.type == pygame.QUIT: \n",
    "            running = False \n",
    "            exit() \n",
    "            pygame.quit() \n",
    "        \n",
    "        if e.type == pygame.MOUSEBUTTONDOWN: \n",
    "            if e.button == 1 : # clicking the left mouse key \n",
    "                apple = Apple(e.pos) \n",
    "                apples.add(apple)  \n",
    "\n",
    "    screen.fill((217 , 217 , 217)) \n",
    "    space.step(0.02)  # 1 / 50 \n",
    "    \n",
    "    balls.draw(screen)  \n",
    "    apples.draw(screen) \n",
    "    apples.update() \n",
    "    balls.update()\n",
    "    pygame.display.flip()\n",
    "    pygame.display.update()   \n",
    "    clock.tick(120)\n"
   ]
  }
 ],
 "metadata": {
  "kernelspec": {
   "display_name": "Python 3.10.6 64-bit (system)",
   "language": "python",
   "name": "python3"
  },
  "language_info": {
   "codemirror_mode": {
    "name": "ipython",
    "version": 3
   },
   "file_extension": ".py",
   "mimetype": "text/x-python",
   "name": "python",
   "nbconvert_exporter": "python",
   "pygments_lexer": "ipython3",
   "version": "3.10.6"
  },
  "orig_nbformat": 4,
  "vscode": {
   "interpreter": {
    "hash": "1e3e800d60de73aef17d6ccee2edb76295f61fcadb681caa85aa19fd4719ff22"
   }
  }
 },
 "nbformat": 4,
 "nbformat_minor": 2
}
